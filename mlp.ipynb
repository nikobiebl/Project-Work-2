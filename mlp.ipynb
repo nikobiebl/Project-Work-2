{
 "cells": [
  {
   "cell_type": "markdown",
   "metadata": {},
   "source": [
    "## Imports"
   ]
  },
  {
   "cell_type": "code",
   "execution_count": 1,
   "metadata": {},
   "outputs": [],
   "source": [
    "# imports\n",
    "import pandas as pd\n",
    "import numpy as np\n",
    "import matplotlib.pyplot as plt\n",
    "import seaborn as sns\n",
    "from sklearn.model_selection import train_test_split\n",
    "from sklearn.metrics import (\n",
    "    accuracy_score, f1_score, precision_score, recall_score,\n",
    "    confusion_matrix, ConfusionMatrixDisplay, classification_report\n",
    ")\n",
    "from sklearn.neural_network import MLPClassifier\n",
    "from sklearn.feature_extraction.text import TfidfVectorizer\n",
    "from sklearn.model_selection import GridSearchCV"
   ]
  },
  {
   "cell_type": "markdown",
   "metadata": {},
   "source": [
    "## Define Functions"
   ]
  },
  {
   "cell_type": "code",
   "execution_count": 2,
   "metadata": {},
   "outputs": [],
   "source": [
    "# define evaluation function\n",
    "def evaluate(y_pred):\n",
    "    accuracy = accuracy_score(y_test, y_pred)\n",
    "    f1 = f1_score(y_test, y_pred)\n",
    "    precision = precision_score(y_test, y_pred)\n",
    "    recall = recall_score(y_test, y_pred)\n",
    "\n",
    "    conf_mat = confusion_matrix(y_test, y_pred)\n",
    "    disp = ConfusionMatrixDisplay(confusion_matrix=conf_mat)\n",
    "    \n",
    "    print(\"Accuracy:    \", accuracy)\n",
    "    print(\"F1-Score:    \", f1)\n",
    "    print(\"Precision:   \", precision)\n",
    "    print(\"Recall:      \", recall)\n",
    "    print()\n",
    "    print(classification_report(y_test, y_pred))\n",
    "    print()\n",
    "\n",
    "    disp.plot()"
   ]
  },
  {
   "cell_type": "markdown",
   "metadata": {},
   "source": [
    "## Load .csv into DF"
   ]
  },
  {
   "cell_type": "code",
   "execution_count": 3,
   "metadata": {},
   "outputs": [],
   "source": [
    "# load data into dataframe\n",
    "df = pd.read_csv(\"phishing_email_projectthesis.csv\") "
   ]
  },
  {
   "cell_type": "markdown",
   "metadata": {},
   "source": [
    "## Prepare Data"
   ]
  },
  {
   "cell_type": "code",
   "execution_count": 4,
   "metadata": {},
   "outputs": [],
   "source": [
    "# rename columns\n",
    "df = df.rename(columns={'text_combined': 'content'}).rename(columns={'label': 'target'}) "
   ]
  },
  {
   "cell_type": "code",
   "execution_count": 5,
   "metadata": {},
   "outputs": [],
   "source": [
    "# drop duplicates but keep the first\n",
    "df = df.drop_duplicates(keep='first') "
   ]
  },
  {
   "cell_type": "code",
   "execution_count": 6,
   "metadata": {},
   "outputs": [
    {
     "name": "stderr",
     "output_type": "stream",
     "text": [
      "/var/folders/gr/nkq2fp191y1_3wywjp14_sz00000gn/T/ipykernel_1722/842751370.py:2: DeprecationWarning: DataFrameGroupBy.apply operated on the grouping columns. This behavior is deprecated, and in a future version of pandas the grouping columns will be excluded from the operation. Either pass `include_groups=False` to exclude the groupings or explicitly select the grouping columns after groupby to silence this warning.\n",
      "  df = df.groupby('target').apply(lambda x: x.sample(39233, replace=True, random_state=42)).reset_index(drop=True)\n"
     ]
    }
   ],
   "source": [
    "# randomized undersampling\n",
    "df = df.groupby('target').apply(lambda x: x.sample(39233, replace=True, random_state=42)).reset_index(drop=True)"
   ]
  },
  {
   "cell_type": "markdown",
   "metadata": {},
   "source": [
    "## Split Data into Training and Test 80-20"
   ]
  },
  {
   "cell_type": "code",
   "execution_count": 7,
   "metadata": {},
   "outputs": [
    {
     "name": "stdout",
     "output_type": "stream",
     "text": [
      "Shape of X_train: (62772,)\n",
      "Shape of X_test: (15694,)\n",
      "Shape of y_train: (62772,)\n",
      "Shape of y_test: (15694,)\n"
     ]
    }
   ],
   "source": [
    "# define X and Y\n",
    "X = df['content']\n",
    "y = df['target']\n",
    "\n",
    "# split data \n",
    "X_train, X_test, y_train, y_test = train_test_split(X, y, test_size=0.2, random_state=42)\n",
    "\n",
    "# check the shape\n",
    "print(\"Shape of X_train:\", X_train.shape)\n",
    "print(\"Shape of X_test:\", X_test.shape)\n",
    "print(\"Shape of y_train:\", y_train.shape)\n",
    "print(\"Shape of y_test:\", y_test.shape)"
   ]
  },
  {
   "cell_type": "markdown",
   "metadata": {},
   "source": [
    "## Vektorize with TF-IDF"
   ]
  },
  {
   "cell_type": "code",
   "execution_count": 8,
   "metadata": {},
   "outputs": [],
   "source": [
    "# creating vectorizer object with standart parameters\n",
    "vectorizer = TfidfVectorizer()\n",
    "\n",
    "# fit on and tranform training data\n",
    "X_train_tfidf = vectorizer.fit_transform(X_train)\n",
    "\n",
    "# transform test data \n",
    "X_test_tfidf = vectorizer.transform(X_test)"
   ]
  },
  {
   "cell_type": "markdown",
   "metadata": {},
   "source": [
    "## Multi Layer Perceptron"
   ]
  },
  {
   "cell_type": "code",
   "execution_count": 9,
   "metadata": {},
   "outputs": [
    {
     "name": "stderr",
     "output_type": "stream",
     "text": [
      "/Users/nikobiebl/.local/share/virtualenvs/Project-Thesis-PGQKRxl5/lib/python3.12/site-packages/sklearn/neural_network/_multilayer_perceptron.py:690: ConvergenceWarning: Stochastic Optimizer: Maximum iterations (1) reached and the optimization hasn't converged yet.\n",
      "  warnings.warn(\n"
     ]
    },
    {
     "name": "stdout",
     "output_type": "stream",
     "text": [
      "Accuracy:     0.9961131642665987\n",
      "F1-Score:     0.9961064658198762\n",
      "Precision:    0.9954075774971297\n",
      "Recall:       0.9968063362289218\n",
      "\n",
      "              precision    recall  f1-score   support\n",
      "\n",
      "           0       1.00      1.00      1.00      7866\n",
      "           1       1.00      1.00      1.00      7828\n",
      "\n",
      "    accuracy                           1.00     15694\n",
      "   macro avg       1.00      1.00      1.00     15694\n",
      "weighted avg       1.00      1.00      1.00     15694\n",
      "\n",
      "\n"
     ]
    },
    {
     "data": {
      "image/png": "[encoded data removed]",
      "text/plain": [
       "<Figure size 640x480 with 2 Axes>"
      ]
     },
     "metadata": {},
     "output_type": "display_data"
    }
   ],
   "source": [
    "# create classifier object\n",
    "mlp_tfidf_classifier = MLPClassifier(hidden_layer_sizes=(100, 50, 25), max_iter=1,random_state=42)\n",
    "\n",
    "# train classifier\n",
    "mlp_tfidf_classifier.fit(X_train_tfidf, y_train)\n",
    "\n",
    "# test classifier\n",
    "mlp_tfidf_predictions = mlp_tfidf_classifier.predict(X_test_tfidf)\n",
    "\n",
    "# evaluate\n",
    "evaluate(mlp_tfidf_predictions)"
   ]
  },
  {
   "cell_type": "markdown",
   "metadata": {},
   "source": [
    "## Creating Treshold Evaluation"
   ]
  },
  {
   "cell_type": "code",
   "execution_count": 10,
   "metadata": {},
   "outputs": [
    {
     "name": "stdout",
     "output_type": "stream",
     "text": [
      "(15694, 3)\n",
      "       probabilities_0  probabilities_1  actual_values\n",
      "30578         0.999976         0.000024              0\n",
      "75285         0.000101         0.999899              1\n",
      "47368         0.002449         0.997551              1\n",
      "23969         0.999976         0.000024              0\n",
      "53099         0.001621         0.998379              1\n",
      "14076         0.999653         0.000347              0\n",
      "20565         0.999278         0.000722              0\n",
      "62974         0.001488         0.998512              1\n",
      "55285         0.000114         0.999886              1\n",
      "61165         0.000343         0.999657              1\n",
      "49031         0.001067         0.998933              1\n",
      "65834         0.000722         0.999278              1\n",
      "64319         0.000949         0.999051              1\n",
      "63695         0.000039         0.999961              1\n",
      "77050         0.000246         0.999754              1\n",
      "15197         0.999774         0.000226              0\n",
      "9908          0.999954         0.000046              0\n",
      "25013         0.999928         0.000072              0\n",
      "71658         0.001082         0.998918              1\n",
      "70520         0.000467         0.999533              1\n"
     ]
    }
   ],
   "source": [
    "probabilities = mlp_tfidf_classifier.predict_proba(X_test_tfidf)\n",
    "\n",
    "probabilities_0 = probabilities[:, 0]\n",
    "probabilities_1 = probabilities[:, 1]\n",
    "\n",
    "actual_values = y_test\n",
    "\n",
    "probabilities_and_values_df = pd.DataFrame({\n",
    "    'probabilities_0': probabilities_0,\n",
    "    'probabilities_1': probabilities_1,\n",
    "    'actual_values': actual_values\n",
    "})\n",
    "\n",
    "print(probabilities_and_values_df.shape)\n",
    "print(probabilities_and_values_df.head(20))"
   ]
  },
  {
   "cell_type": "code",
   "execution_count": 11,
   "metadata": {},
   "outputs": [
    {
     "name": "stdout",
     "output_type": "stream",
     "text": [
      "(21, 3)\n",
      "       probabilities_0  probabilities_1  actual_values\n",
      "54700         0.411216         0.588784              1\n",
      "30282         0.588090         0.411910              0\n",
      "18138         0.443169         0.556831              0\n",
      "689           0.467704         0.532296              0\n",
      "53020         0.508569         0.491431              1\n",
      "68196         0.483448         0.516552              1\n",
      "56850         0.462655         0.537345              1\n",
      "10684         0.539202         0.460798              0\n",
      "28171         0.557635         0.442365              0\n",
      "62644         0.497556         0.502444              1\n",
      "52007         0.423012         0.576988              1\n",
      "28092         0.496202         0.503798              0\n",
      "36718         0.475109         0.524891              0\n",
      "18969         0.554363         0.445637              0\n",
      "54001         0.484908         0.515092              1\n",
      "25243         0.597426         0.402574              0\n",
      "10936         0.557635         0.442365              0\n",
      "61419         0.412581         0.587419              1\n",
      "2971          0.476296         0.523704              0\n",
      "73766         0.505038         0.494962              1\n",
      "54343         0.410874         0.589126              1\n"
     ]
    }
   ],
   "source": [
    "under_60_percent_df = probabilities_and_values_df[(probabilities_and_values_df['probabilities_0'] < 0.6) & (probabilities_and_values_df['probabilities_1'] < 0.60)]\n",
    "\n",
    "print(under_60_percent_df.shape)\n",
    "print(under_60_percent_df.head(22))"
   ]
  },
  {
   "cell_type": "code",
   "execution_count": 12,
   "metadata": {},
   "outputs": [
    {
     "name": "stdout",
     "output_type": "stream",
     "text": [
      "    threshold  classifiable   accuracy  precision     recall         f1\n",
      "0        0.50    100.000000  99.611316  99.540758  99.680634  99.610647\n",
      "1        0.51     99.974513  99.630338  99.553401  99.706070  99.629677\n",
      "2        0.52     99.961769  99.630291  99.553287  99.705995  99.629582\n",
      "3        0.53     99.949025  99.642994  99.578705  99.705995  99.642310\n",
      "4        0.54     99.929910  99.649302  99.591368  99.705958  99.648630\n",
      "5        0.55     99.929910  99.649302  99.591368  99.705958  99.648630\n",
      "6        0.56     99.904422  99.655590  99.604087  99.705958  99.654996\n",
      "7        0.57     99.904422  99.655590  99.604087  99.705958  99.654996\n",
      "8        0.58     99.898050  99.655568  99.604036  99.705920  99.654952\n",
      "9        0.59     99.872563  99.655480  99.603884  99.705807  99.654820\n",
      "10       0.60     99.866191  99.655458  99.603884  99.705807  99.654820\n",
      "11       0.61     99.866191  99.655458  99.603884  99.705807  99.654820\n",
      "12       0.62     99.853447  99.668177  99.629346  99.705807  99.667562\n",
      "13       0.63     99.847075  99.668156  99.629298  99.705769  99.667519\n",
      "14       0.64     99.847075  99.668156  99.629298  99.705769  99.667519\n",
      "15       0.65     99.827960  99.687241  99.642035  99.731286  99.686641\n",
      "16       0.66     99.815216  99.693584  99.654731  99.731252  99.692977\n",
      "17       0.67     99.802472  99.699930  99.654731  99.744016  99.699354\n",
      "18       0.68     99.770613  99.725380  99.667434  99.782302  99.724835\n",
      "19       0.69     99.751497  99.731715  99.680184  99.782302  99.731217\n",
      "20       0.70     99.732382  99.731664  99.680184  99.782302  99.731217\n",
      "21       0.71     99.732382  99.731664  99.680184  99.782302  99.731217\n",
      "22       0.72     99.726010  99.738036  99.692938  99.782302  99.737600\n",
      "23       0.73     99.726010  99.738036  99.692938  99.782302  99.737600\n",
      "24       0.74     99.700522  99.750751  99.692938  99.807865  99.750368\n",
      "25       0.75     99.636804  99.776172  99.731080  99.820559  99.775799\n",
      "26       0.76     99.604945  99.776100  99.730907  99.820444  99.775655\n",
      "27       0.77     99.585829  99.782456  99.743655  99.820421  99.782023\n",
      "28       0.78     99.547598  99.795174  99.769172  99.820375  99.794767\n",
      "29       0.79     99.522110  99.795121  99.769083  99.820305  99.794688\n",
      "30       0.80     99.490251  99.807865  99.769053  99.845917  99.807470\n",
      "31       0.81     99.483879  99.807852  99.769053  99.845917  99.807470\n",
      "32       0.82     99.452020  99.820605  99.794635  99.845897  99.820259\n",
      "33       0.83     99.432904  99.820570  99.794582  99.845857  99.820213\n",
      "34       0.84     99.426532  99.820559  99.794556  99.845838  99.820190\n",
      "35       0.85     99.375558  99.826879  99.807297  99.845778  99.826534\n",
      "36       0.86     99.305467  99.833173  99.820005  99.845679  99.832840\n",
      "37       0.87     99.254492  99.839507  99.819889  99.858430  99.839156\n",
      "38       0.88     99.216261  99.845867  99.819773  99.871200  99.845480\n",
      "39       0.89     99.139799  99.845748  99.819588  99.871068  99.845321\n",
      "40       0.90     99.088824  99.858530  99.845261  99.871018  99.858138\n",
      "41       0.91     99.037849  99.871325  99.845201  99.896748  99.870968\n",
      "42       0.92     98.986874  99.877696  99.845081  99.909572  99.877316\n",
      "43       0.93     98.878552  99.890450  99.857826  99.922400  99.890103\n",
      "44       0.94     98.782974  99.890344  99.857734  99.922350  99.890032\n",
      "45       0.95     98.661909  99.896668  99.857513  99.935183  99.896333\n",
      "46       0.96     98.426150  99.902894  99.870113  99.935014  99.902553\n",
      "47       0.97     98.088441  99.902559  99.869707  99.934811  99.902248\n",
      "48       0.98     97.553205  99.921620  99.882106  99.960671  99.921373\n",
      "49       0.99     96.355295  99.947097  99.907063  99.986713  99.946872\n"
     ]
    }
   ],
   "source": [
    "thresholds = np.arange(0.5, 1.0, 0.01)\n",
    "\n",
    "results = []\n",
    "\n",
    "for threshold in thresholds:\n",
    "\n",
    "    classifiable_df = probabilities_and_values_df[(probabilities_and_values_df['probabilities_0'] > threshold) | (probabilities_and_values_df['probabilities_1'] > threshold)]\n",
    "    \n",
    "    percentage_classifiable = (len(classifiable_df) / len(probabilities_and_values_df)) * 100\n",
    "    \n",
    "    predicted_labels = np.where(classifiable_df['probabilities_1'] > threshold, 1, 0)\n",
    "\n",
    "    accuracy = accuracy_score(classifiable_df['actual_values'], predicted_labels) * 100\n",
    "    precision = precision_score(classifiable_df['actual_values'], predicted_labels) * 100\n",
    "    recall = recall_score(classifiable_df['actual_values'], predicted_labels) * 100\n",
    "    f1 = f1_score(classifiable_df['actual_values'], predicted_labels) * 100\n",
    "\n",
    "    results.append({\n",
    "        'threshold': threshold,\n",
    "        'classifiable': percentage_classifiable,\n",
    "        'accuracy': accuracy,\n",
    "        'precision': precision,\n",
    "        'recall': recall,\n",
    "        'f1': f1\n",
    "    })\n",
    "\n",
    "results_df = pd.DataFrame(results)\n",
    "\n",
    "print(results_df.head(50))"
   ]
  }
 ],
 "metadata": {
  "kernelspec": {
   "display_name": "venv",
   "language": "python",
   "name": "python3"
  },
  "language_info": {
   "codemirror_mode": {
    "name": "ipython",
    "version": 3
   },
   "file_extension": ".py",
   "mimetype": "text/x-python",
   "name": "python",
   "nbconvert_exporter": "python",
   "pygments_lexer": "ipython3",
   "version": "3.12.2"
  }
 },
 "nbformat": 4,
 "nbformat_minor": 2
}
