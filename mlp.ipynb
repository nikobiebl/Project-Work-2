{
 "cells": [
  {
   "cell_type": "markdown",
   "metadata": {},
   "source": [
    "## Imports"
   ]
  },
  {
   "cell_type": "code",
   "execution_count": 3,
   "metadata": {},
   "outputs": [],
   "source": [
    "# imports\n",
    "import pandas as pd\n",
    "import numpy as np\n",
    "import matplotlib.pyplot as plt\n",
    "import seaborn as sns\n",
    "from sklearn.model_selection import train_test_split\n",
    "from sklearn.metrics import (\n",
    "    accuracy_score, f1_score, precision_score, recall_score,\n",
    "    confusion_matrix, ConfusionMatrixDisplay, classification_report\n",
    ")\n",
    "from sklearn.neural_network import MLPClassifier\n",
    "from sklearn.feature_extraction.text import TfidfVectorizer"
   ]
  },
  {
   "cell_type": "markdown",
   "metadata": {},
   "source": [
    "## Define Functions"
   ]
  },
  {
   "cell_type": "code",
   "execution_count": 4,
   "metadata": {},
   "outputs": [],
   "source": [
    "# define evaluation function\n",
    "def evaluate(y_pred):\n",
    "    accuracy = accuracy_score(y_test, y_pred)\n",
    "    f1 = f1_score(y_test, y_pred)\n",
    "    precision = precision_score(y_test, y_pred)\n",
    "    recall = recall_score(y_test, y_pred)\n",
    "\n",
    "    conf_mat = confusion_matrix(y_test, y_pred)\n",
    "    disp = ConfusionMatrixDisplay(confusion_matrix=conf_mat)\n",
    "    \n",
    "    print(\"Accuracy:    \", accuracy)\n",
    "    print(\"F1-Score:    \", f1)\n",
    "    print(\"Precision:   \", precision)\n",
    "    print(\"Recall:      \", recall)\n",
    "    print()\n",
    "    print(classification_report(y_test, y_pred))\n",
    "    print()\n",
    "\n",
    "    disp.plot()"
   ]
  },
  {
   "cell_type": "markdown",
   "metadata": {},
   "source": [
    "## Load .csv into DF"
   ]
  },
  {
   "cell_type": "code",
   "execution_count": 5,
   "metadata": {},
   "outputs": [],
   "source": [
    "# load data into dataframe\n",
    "df = pd.read_csv(\"phishing_email_projectthesis.csv\") "
   ]
  },
  {
   "cell_type": "markdown",
   "metadata": {},
   "source": [
    "## Prepare Data"
   ]
  },
  {
   "cell_type": "code",
   "execution_count": 6,
   "metadata": {},
   "outputs": [],
   "source": [
    "# rename columns\n",
    "df = df.rename(columns={'text_combined': 'content'}).rename(columns={'label': 'target'}) "
   ]
  },
  {
   "cell_type": "code",
   "execution_count": 7,
   "metadata": {},
   "outputs": [],
   "source": [
    "# drop duplicates but keep the first\n",
    "df = df.drop_duplicates(keep='first') "
   ]
  },
  {
   "cell_type": "code",
   "execution_count": 8,
   "metadata": {},
   "outputs": [
    {
     "name": "stderr",
     "output_type": "stream",
     "text": [
      "/var/folders/gr/nkq2fp191y1_3wywjp14_sz00000gn/T/ipykernel_50733/196238678.py:2: DeprecationWarning: DataFrameGroupBy.apply operated on the grouping columns. This behavior is deprecated, and in a future version of pandas the grouping columns will be excluded from the operation. Either pass `include_groups=False` to exclude the groupings or explicitly select the grouping columns after groupby to silence this warning.\n",
      "  df = df.groupby('target').apply(lambda x: x.sample(39233, replace=True)).reset_index(drop=True)\n"
     ]
    }
   ],
   "source": [
    "# randomized undersampling\n",
    "df = df.groupby('target').apply(lambda x: x.sample(39233, replace=True)).reset_index(drop=True)"
   ]
  },
  {
   "cell_type": "markdown",
   "metadata": {},
   "source": [
    "## Split Dada into Training and Test 80-20"
   ]
  },
  {
   "cell_type": "code",
   "execution_count": 9,
   "metadata": {},
   "outputs": [
    {
     "name": "stdout",
     "output_type": "stream",
     "text": [
      "Shape of X_train: (62772,)\n",
      "Shape of X_test: (15694,)\n",
      "Shape of y_train: (62772,)\n",
      "Shape of y_test: (15694,)\n"
     ]
    }
   ],
   "source": [
    "# define X and Y\n",
    "X = df['content']\n",
    "y = df['target']\n",
    "\n",
    "# split data \n",
    "X_train, X_test, y_train, y_test = train_test_split(X, y, test_size=0.2, random_state=42)\n",
    "\n",
    "# check the shape\n",
    "print(\"Shape of X_train:\", X_train.shape)\n",
    "print(\"Shape of X_test:\", X_test.shape)\n",
    "print(\"Shape of y_train:\", y_train.shape)\n",
    "print(\"Shape of y_test:\", y_test.shape)"
   ]
  },
  {
   "cell_type": "markdown",
   "metadata": {},
   "source": [
    "## Vektorize with TF-IDF"
   ]
  },
  {
   "cell_type": "code",
   "execution_count": 10,
   "metadata": {},
   "outputs": [],
   "source": [
    "# creating vectorizer object with standart parameters\n",
    "vectorizer = TfidfVectorizer()\n",
    "\n",
    "# fit on and tranform training data\n",
    "X_train_tfidf = vectorizer.fit_transform(X_train)\n",
    "\n",
    "# transform test data \n",
    "X_test_tfidf = vectorizer.transform(X_test)"
   ]
  },
  {
   "cell_type": "markdown",
   "metadata": {},
   "source": [
    "## Multi Layer Perceptron"
   ]
  },
  {
   "cell_type": "code",
   "execution_count": 11,
   "metadata": {},
   "outputs": [
    {
     "name": "stderr",
     "output_type": "stream",
     "text": [
      "/Users/nikobiebl/Desktop/Studium/PA2/Project-Thesis/venv/lib/python3.12/site-packages/sklearn/neural_network/_multilayer_perceptron.py:690: ConvergenceWarning: Stochastic Optimizer: Maximum iterations (1) reached and the optimization hasn't converged yet.\n",
      "  warnings.warn(\n"
     ]
    },
    {
     "name": "stdout",
     "output_type": "stream",
     "text": [
      "Accuracy:     0.9935644195233847\n",
      "F1-Score:     0.9935492112154308\n",
      "Precision:    0.9934857580789372\n",
      "Recall:       0.9936126724578437\n",
      "\n",
      "              precision    recall  f1-score   support\n",
      "\n",
      "           0       0.99      0.99      0.99      7866\n",
      "           1       0.99      0.99      0.99      7828\n",
      "\n",
      "    accuracy                           0.99     15694\n",
      "   macro avg       0.99      0.99      0.99     15694\n",
      "weighted avg       0.99      0.99      0.99     15694\n",
      "\n",
      "\n"
     ]
    },
    {
     "data": {
      "image/png": "[encoded data removed]",
      "text/plain": [
       "<Figure size 640x480 with 2 Axes>"
      ]
     },
     "metadata": {},
     "output_type": "display_data"
    }
   ],
   "source": [
    "# create classifier object\n",
    "mlp_tfidf_classifier = MLPClassifier(max_iter=1, random_state=42)\n",
    "\n",
    "# train classifier\n",
    "mlp_tfidf_classifier.fit(X_train_tfidf, y_train)\n",
    "\n",
    "# test classifier\n",
    "mlp_tfidf_predictions = mlp_tfidf_classifier.predict(X_test_tfidf)\n",
    "\n",
    "# evaluate\n",
    "evaluate(mlp_tfidf_predictions)"
   ]
  },
  {
   "cell_type": "markdown",
   "metadata": {},
   "source": [
    "## Creating Treshold Evaluation"
   ]
  },
  {
   "cell_type": "code",
   "execution_count": 28,
   "metadata": {},
   "outputs": [
    {
     "name": "stdout",
     "output_type": "stream",
     "text": [
      "(15694, 3)\n",
      "       probabilities_0  probabilities_1  actual_values\n",
      "30578         0.996920         0.003080              0\n",
      "75285         0.007297         0.992703              1\n",
      "47368         0.002008         0.997992              1\n",
      "23969         0.994878         0.005122              0\n",
      "53099         0.000355         0.999645              1\n",
      "14076         0.999075         0.000925              0\n",
      "20565         0.995986         0.004014              0\n",
      "62974         0.002011         0.997989              1\n",
      "55285         0.000257         0.999743              1\n",
      "61165         0.008079         0.991921              1\n",
      "49031         0.020530         0.979470              1\n",
      "65834         0.010096         0.989904              1\n",
      "64319         0.023647         0.976353              1\n",
      "63695         0.005859         0.994141              1\n",
      "77050         0.010139         0.989861              1\n",
      "15197         0.995731         0.004269              0\n",
      "9908          0.855172         0.144828              0\n",
      "25013         0.998752         0.001248              0\n",
      "71658         0.004467         0.995533              1\n",
      "70520         0.001950         0.998050              1\n"
     ]
    }
   ],
   "source": [
    "probabilities = mlp_tfidf_classifier.predict_proba(X_test_tfidf)\n",
    "\n",
    "probabilities_0 = probabilities[:, 0]\n",
    "probabilities_1 = probabilities[:, 1]\n",
    "\n",
    "actual_values = y_test\n",
    "\n",
    "probabilities_and_values_df = pd.DataFrame({\n",
    "    'probabilities_0': probabilities_0,\n",
    "    'probabilities_1': probabilities_1,\n",
    "    'actual_values': actual_values\n",
    "})\n",
    "\n",
    "print(probabilities_and_values_df.shape)\n",
    "print(probabilities_and_values_df.head(20))"
   ]
  },
  {
   "cell_type": "code",
   "execution_count": 29,
   "metadata": {},
   "outputs": [
    {
     "name": "stdout",
     "output_type": "stream",
     "text": [
      "(15617, 3)\n",
      "       probabilities_0  probabilities_1  actual_values\n",
      "30578         0.996920         0.003080              0\n",
      "75285         0.007297         0.992703              1\n",
      "47368         0.002008         0.997992              1\n",
      "23969         0.994878         0.005122              0\n",
      "53099         0.000355         0.999645              1\n",
      "14076         0.999075         0.000925              0\n",
      "20565         0.995986         0.004014              0\n",
      "62974         0.002011         0.997989              1\n",
      "55285         0.000257         0.999743              1\n",
      "61165         0.008079         0.991921              1\n",
      "49031         0.020530         0.979470              1\n",
      "65834         0.010096         0.989904              1\n",
      "64319         0.023647         0.976353              1\n",
      "63695         0.005859         0.994141              1\n",
      "77050         0.010139         0.989861              1\n",
      "15197         0.995731         0.004269              0\n",
      "9908          0.855172         0.144828              0\n",
      "25013         0.998752         0.001248              0\n",
      "71658         0.004467         0.995533              1\n",
      "70520         0.001950         0.998050              1\n"
     ]
    }
   ],
   "source": [
    "under_60_percent_df = probabilities_and_values_df[(probabilities_and_values_df['probabilities_0'] > 0.6) | (probabilities_and_values_df['probabilities_1'] > 0.60)]\n",
    "\n",
    "print(under_60_percent_df.shape)\n",
    "print(under_60_percent_df.head(20))"
   ]
  },
  {
   "cell_type": "code",
   "execution_count": 34,
   "metadata": {},
   "outputs": [
    {
     "name": "stdout",
     "output_type": "stream",
     "text": [
      "    threshold  classifiable   accuracy  precision      recall         f1\n",
      "0        0.50    100.000000  99.356442  99.348576   99.361267  99.354921\n",
      "1        0.51     99.923538  99.381456  99.373722   99.386425  99.380073\n",
      "2        0.52     99.891678  99.394017  99.373562   99.411689  99.392622\n",
      "3        0.53     99.878935  99.400319  99.386268   99.411689  99.398977\n",
      "4        0.54     99.853447  99.412928  99.398823   99.424258  99.411539\n",
      "5        0.55     99.815216  99.419087  99.398515   99.436692  99.417600\n",
      "6        0.56     99.770613  99.425214  99.398284   99.449212  99.423742\n",
      "7        0.57     99.706894  99.450409  99.397976   99.499936  99.448930\n",
      "8        0.58     99.655919  99.462916  99.423225   99.499743  99.461469\n",
      "9        0.59     99.617688  99.494691  99.448647   99.537988  99.493297\n",
      "10       0.60     99.509367  99.526157  99.499358   99.550475  99.524910\n",
      "11       0.61     99.458392  99.532321  99.499294   99.563207  99.531240\n",
      "12       0.62     99.388301  99.538402  99.499037   99.575781  99.537394\n",
      "13       0.63     99.286351  99.576434  99.562701   99.588319  99.575508\n",
      "14       0.64     99.216261  99.595402  99.588160   99.600978  99.594569\n",
      "15       0.65     99.095196  99.633488  99.626529   99.639361  99.632945\n",
      "16       0.66     99.050593  99.639756  99.639222   99.639222  99.639222\n",
      "17       0.67     98.986874  99.652398  99.651972   99.651972  99.651972\n",
      "18       0.68     98.891296  99.684278  99.677461   99.690323  99.683891\n",
      "19       0.69     98.763859  99.696774  99.690083   99.702958  99.696520\n",
      "20       0.70     98.668281  99.696480  99.689642   99.702535  99.696088\n",
      "21       0.71     98.598190  99.709190  99.689441   99.728155  99.708794\n",
      "22       0.72     98.477125  99.721773  99.714767   99.727697  99.721232\n",
      "23       0.73     98.394291  99.728015  99.714508   99.740395  99.727450\n",
      "24       0.74     98.305085  99.727768  99.714323   99.740226  99.727273\n",
      "25       0.75     98.241366  99.734077  99.727060   99.740023  99.733541\n",
      "26       0.76     98.145788  99.753295  99.752829   99.752829  99.752829\n",
      "27       0.77     98.050210  99.766051  99.752604   99.778588  99.765594\n",
      "28       0.78     97.929145  99.765762  99.752249   99.778271  99.765258\n",
      "29       0.79     97.801708  99.785002  99.764952   99.804050  99.784497\n",
      "30       0.80     97.661527  99.797743  99.790795   99.803845  99.797319\n",
      "31       0.81     97.444883  99.810371  99.816442   99.803356  99.809898\n",
      "32       0.82     97.260099  99.823113  99.842396   99.803072  99.822730\n",
      "33       0.83     97.062572  99.849012  99.881579   99.815911  99.848734\n",
      "34       0.84     96.871416  99.855292  99.881313   99.828654  99.854977\n",
      "35       0.85     96.603798  99.861487  99.894264   99.828292  99.861267\n",
      "36       0.86     96.355295  99.867742  99.907272   99.827929  99.867585\n",
      "37       0.87     96.011214  99.867268  99.906927   99.827288  99.867092\n",
      "38       0.88     95.609787  99.886704  99.906492   99.866471  99.886477\n",
      "39       0.89     95.221104  99.899625  99.906128   99.892733  99.899430\n",
      "40       0.90     94.749586  99.919301  99.919170   99.919170  99.919170\n",
      "41       0.91     94.144259  99.925550  99.918500   99.932074  99.925287\n",
      "42       0.92     93.443354  99.924991  99.917909   99.931582  99.924745\n",
      "43       0.93     92.455716  99.958649  99.958478   99.958478  99.958478\n",
      "44       0.94     91.276921  99.986038  99.971902  100.000000  99.985949\n",
      "45       0.95     89.798649  99.992904  99.985710  100.000000  99.992855\n",
      "46       0.96     87.587613  99.992725  99.985305  100.000000  99.992652\n",
      "47       0.97     84.153180  99.992428  99.984639  100.000000  99.992319\n",
      "48       0.98     78.724353  99.991906  99.983416  100.000000  99.991707\n",
      "49       0.99     66.630559  99.990437  99.979500  100.000000  99.989749\n"
     ]
    }
   ],
   "source": [
    "thresholds = np.arange(0.5, 1.0, 0.01)\n",
    "\n",
    "results = []\n",
    "\n",
    "for threshold in thresholds:\n",
    "\n",
    "    classifiable_df = probabilities_and_values_df[(probabilities_and_values_df['probabilities_0'] > threshold) | (probabilities_and_values_df['probabilities_1'] > threshold)]\n",
    "    \n",
    "    percentage_classifiable = (len(classifiable_df) / len(probabilities_and_values_df)) * 100\n",
    "    \n",
    "    predicted_labels = np.where(classifiable_df['probabilities_1'] > threshold, 1, 0)\n",
    "\n",
    "    accuracy = accuracy_score(classifiable_df['actual_values'], predicted_labels) * 100\n",
    "    precision = precision_score(classifiable_df['actual_values'], predicted_labels) * 100\n",
    "    recall = recall_score(classifiable_df['actual_values'], predicted_labels) * 100\n",
    "    f1 = f1_score(classifiable_df['actual_values'], predicted_labels) * 100\n",
    "\n",
    "    results.append({\n",
    "        'threshold': threshold,\n",
    "        'classifiable': percentage_classifiable,\n",
    "        'accuracy': accuracy,\n",
    "        'precision': precision,\n",
    "        'recall': recall,\n",
    "        'f1': f1\n",
    "    })\n",
    "\n",
    "results_df = pd.DataFrame(results)\n",
    "\n",
    "print(results_df.head(50))"
   ]
  }
 ],
 "metadata": {
  "kernelspec": {
   "display_name": "venv",
   "language": "python",
   "name": "python3"
  },
  "language_info": {
   "codemirror_mode": {
    "name": "ipython",
    "version": 3
   },
   "file_extension": ".py",
   "mimetype": "text/x-python",
   "name": "python",
   "nbconvert_exporter": "python",
   "pygments_lexer": "ipython3",
   "version": "3.12.2"
  }
 },
 "nbformat": 4,
 "nbformat_minor": 2
}
