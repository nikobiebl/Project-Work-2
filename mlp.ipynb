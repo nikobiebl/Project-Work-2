{
 "cells": [
  {
   "cell_type": "markdown",
   "metadata": {},
   "source": [
    "## Imports"
   ]
  },
  {
   "cell_type": "code",
   "execution_count": 25,
   "metadata": {},
   "outputs": [],
   "source": [
    "# imports\n",
    "import pandas as pd\n",
    "import numpy as np\n",
    "import matplotlib.pyplot as plt\n",
    "import seaborn as sns\n",
    "from sklearn.model_selection import train_test_split\n",
    "from sklearn.metrics import (\n",
    "    accuracy_score, f1_score, precision_score, recall_score,\n",
    "    confusion_matrix, ConfusionMatrixDisplay, classification_report\n",
    ")\n",
    "from sklearn.neural_network import MLPClassifier\n",
    "from sklearn.feature_extraction.text import TfidfVectorizer\n",
    "from sklearn.model_selection import GridSearchCV"
   ]
  },
  {
   "cell_type": "markdown",
   "metadata": {},
   "source": [
    "## Define Functions"
   ]
  },
  {
   "cell_type": "code",
   "execution_count": 26,
   "metadata": {},
   "outputs": [],
   "source": [
    "# define evaluation function\n",
    "def evaluate(y_pred):\n",
    "    accuracy = accuracy_score(y_test, y_pred)\n",
    "    f1 = f1_score(y_test, y_pred)\n",
    "    precision = precision_score(y_test, y_pred)\n",
    "    recall = recall_score(y_test, y_pred)\n",
    "\n",
    "    conf_mat = confusion_matrix(y_test, y_pred)\n",
    "    disp = ConfusionMatrixDisplay(confusion_matrix=conf_mat)\n",
    "    \n",
    "    print(\"Accuracy:    \", accuracy)\n",
    "    print(\"F1-Score:    \", f1)\n",
    "    print(\"Precision:   \", precision)\n",
    "    print(\"Recall:      \", recall)\n",
    "    print()\n",
    "    print(classification_report(y_test, y_pred))\n",
    "    print()\n",
    "\n",
    "    disp.plot()"
   ]
  },
  {
   "cell_type": "markdown",
   "metadata": {},
   "source": [
    "## Load .csv into DF"
   ]
  },
  {
   "cell_type": "code",
   "execution_count": 27,
   "metadata": {},
   "outputs": [],
   "source": [
    "# load data into dataframe\n",
    "df = pd.read_csv(\"phishing_email_projectthesis.csv\") "
   ]
  },
  {
   "cell_type": "markdown",
   "metadata": {},
   "source": [
    "## Prepare Data"
   ]
  },
  {
   "cell_type": "code",
   "execution_count": 28,
   "metadata": {},
   "outputs": [],
   "source": [
    "# rename columns\n",
    "df = df.rename(columns={'text_combined': 'content'}).rename(columns={'label': 'target'}) "
   ]
  },
  {
   "cell_type": "code",
   "execution_count": 29,
   "metadata": {},
   "outputs": [],
   "source": [
    "# drop duplicates but keep the first\n",
    "df = df.drop_duplicates(keep='first') "
   ]
  },
  {
   "cell_type": "code",
   "execution_count": 30,
   "metadata": {},
   "outputs": [
    {
     "name": "stderr",
     "output_type": "stream",
     "text": [
      "/var/folders/gr/nkq2fp191y1_3wywjp14_sz00000gn/T/ipykernel_1722/842751370.py:2: DeprecationWarning: DataFrameGroupBy.apply operated on the grouping columns. This behavior is deprecated, and in a future version of pandas the grouping columns will be excluded from the operation. Either pass `include_groups=False` to exclude the groupings or explicitly select the grouping columns after groupby to silence this warning.\n",
      "  df = df.groupby('target').apply(lambda x: x.sample(39233, replace=True, random_state=42)).reset_index(drop=True)\n"
     ]
    }
   ],
   "source": [
    "# randomized undersampling\n",
    "df = df.groupby('target').apply(lambda x: x.sample(39233, replace=True, random_state=42)).reset_index(drop=True)"
   ]
  },
  {
   "cell_type": "markdown",
   "metadata": {},
   "source": [
    "## Split Data into Training and Test 80-20"
   ]
  },
  {
   "cell_type": "code",
   "execution_count": 31,
   "metadata": {},
   "outputs": [
    {
     "name": "stdout",
     "output_type": "stream",
     "text": [
      "Shape of X_train: (62772,)\n",
      "Shape of X_test: (15694,)\n",
      "Shape of y_train: (62772,)\n",
      "Shape of y_test: (15694,)\n"
     ]
    }
   ],
   "source": [
    "# define X and Y\n",
    "X = df['content']\n",
    "y = df['target']\n",
    "\n",
    "# split data \n",
    "X_train, X_test, y_train, y_test = train_test_split(X, y, test_size=0.2, random_state=42)\n",
    "\n",
    "# check the shape\n",
    "print(\"Shape of X_train:\", X_train.shape)\n",
    "print(\"Shape of X_test:\", X_test.shape)\n",
    "print(\"Shape of y_train:\", y_train.shape)\n",
    "print(\"Shape of y_test:\", y_test.shape)"
   ]
  },
  {
   "cell_type": "markdown",
   "metadata": {},
   "source": [
    "## Vektorize with TF-IDF"
   ]
  },
  {
   "cell_type": "code",
   "execution_count": 32,
   "metadata": {},
   "outputs": [],
   "source": [
    "# creating vectorizer object with standart parameters\n",
    "vectorizer = TfidfVectorizer()\n",
    "\n",
    "# fit on and tranform training data\n",
    "X_train_tfidf = vectorizer.fit_transform(X_train)\n",
    "\n",
    "# transform test data \n",
    "X_test_tfidf = vectorizer.transform(X_test)"
   ]
  },
  {
   "cell_type": "markdown",
   "metadata": {},
   "source": [
    "## Multi Layer Perceptron"
   ]
  },
  {
   "cell_type": "code",
   "execution_count": 67,
   "metadata": {},
   "outputs": [
    {
     "name": "stderr",
     "output_type": "stream",
     "text": [
      "/Users/nikobiebl/.local/share/virtualenvs/Project-Thesis-PGQKRxl5/lib/python3.12/site-packages/sklearn/neural_network/_multilayer_perceptron.py:690: ConvergenceWarning: Stochastic Optimizer: Maximum iterations (3) reached and the optimization hasn't converged yet.\n",
      "  warnings.warn(\n"
     ]
    },
    {
     "name": "stdout",
     "output_type": "stream",
     "text": [
      "Accuracy:     0.9966229132152415\n",
      "F1-Score:     0.9966145001596934\n",
      "Precision:    0.9966781653251565\n",
      "Recall:       0.9965508431272355\n",
      "\n",
      "              precision    recall  f1-score   support\n",
      "\n",
      "           0       1.00      1.00      1.00      7866\n",
      "           1       1.00      1.00      1.00      7828\n",
      "\n",
      "    accuracy                           1.00     15694\n",
      "   macro avg       1.00      1.00      1.00     15694\n",
      "weighted avg       1.00      1.00      1.00     15694\n",
      "\n",
      "\n"
     ]
    },
    {
     "data": {
      "image/png": "[encoded data removed]",
      "text/plain": [
       "<Figure size 640x480 with 2 Axes>"
      ]
     },
     "metadata": {},
     "output_type": "display_data"
    }
   ],
   "source": [
    "# create classifier object\n",
    "mlp_tfidf_classifier = MLPClassifier(hidden_layer_sizes=(100, 50, 25), max_iter=3,random_state=42)\n",
    "\n",
    "# train classifier\n",
    "mlp_tfidf_classifier.fit(X_train_tfidf, y_train)\n",
    "\n",
    "# test classifier\n",
    "mlp_tfidf_predictions = mlp_tfidf_classifier.predict(X_test_tfidf)\n",
    "\n",
    "# evaluate\n",
    "evaluate(mlp_tfidf_predictions)"
   ]
  },
  {
   "cell_type": "markdown",
   "metadata": {},
   "source": [
    "## Creating Treshold Evaluation"
   ]
  },
  {
   "cell_type": "code",
   "execution_count": 68,
   "metadata": {},
   "outputs": [
    {
     "name": "stdout",
     "output_type": "stream",
     "text": [
      "(15694, 3)\n",
      "       probabilities_0  probabilities_1  actual_values\n",
      "30578     9.999996e-01     4.257627e-07              0\n",
      "75285     4.942060e-06     9.999951e-01              1\n",
      "47368     2.690850e-04     9.997309e-01              1\n",
      "23969     9.999992e-01     7.657249e-07              0\n",
      "53099     1.284532e-04     9.998715e-01              1\n",
      "14076     9.999638e-01     3.622599e-05              0\n",
      "20565     9.999573e-01     4.267212e-05              0\n",
      "62974     2.867437e-04     9.997133e-01              1\n",
      "55285     3.864819e-06     9.999961e-01              1\n",
      "61165     2.257115e-05     9.999774e-01              1\n",
      "49031     6.793244e-05     9.999321e-01              1\n",
      "65834     3.878543e-05     9.999612e-01              1\n",
      "64319     6.233042e-05     9.999377e-01              1\n",
      "63695     8.265674e-07     9.999992e-01              1\n",
      "77050     1.207835e-05     9.999879e-01              1\n",
      "15197     9.999929e-01     7.085141e-06              0\n",
      "9908      9.999989e-01     1.063104e-06              0\n",
      "25013     9.999973e-01     2.671433e-06              0\n",
      "71658     1.038112e-04     9.998962e-01              1\n",
      "70520     6.033622e-06     9.999940e-01              1\n"
     ]
    }
   ],
   "source": [
    "probabilities = mlp_tfidf_classifier.predict_proba(X_test_tfidf)\n",
    "\n",
    "probabilities_0 = probabilities[:, 0]\n",
    "probabilities_1 = probabilities[:, 1]\n",
    "\n",
    "actual_values = y_test\n",
    "\n",
    "probabilities_and_values_df = pd.DataFrame({\n",
    "    'probabilities_0': probabilities_0,\n",
    "    'probabilities_1': probabilities_1,\n",
    "    'actual_values': actual_values\n",
    "})\n",
    "\n",
    "print(probabilities_and_values_df.shape)\n",
    "print(probabilities_and_values_df.head(20))"
   ]
  },
  {
   "cell_type": "code",
   "execution_count": 69,
   "metadata": {},
   "outputs": [
    {
     "name": "stdout",
     "output_type": "stream",
     "text": [
      "(12, 3)\n",
      "       probabilities_0  probabilities_1  actual_values\n",
      "54700         0.409622         0.590378              1\n",
      "30282         0.577353         0.422647              0\n",
      "18138         0.593944         0.406056              0\n",
      "23754         0.579275         0.420725              0\n",
      "10684         0.512805         0.487195              0\n",
      "5134          0.539286         0.460714              0\n",
      "62753         0.573629         0.426371              1\n",
      "62644         0.426463         0.573537              1\n",
      "23131         0.542855         0.457145              0\n",
      "55352         0.418154         0.581846              1\n",
      "27859         0.579275         0.420725              0\n",
      "67181         0.571704         0.428296              1\n"
     ]
    }
   ],
   "source": [
    "under_60_percent_df = probabilities_and_values_df[(probabilities_and_values_df['probabilities_0'] < 0.6) & (probabilities_and_values_df['probabilities_1'] < 0.60)]\n",
    "\n",
    "print(under_60_percent_df.shape)\n",
    "print(under_60_percent_df.head(22))"
   ]
  },
  {
   "cell_type": "code",
   "execution_count": 70,
   "metadata": {},
   "outputs": [
    {
     "name": "stdout",
     "output_type": "stream",
     "text": [
      "    threshold  classifiable   accuracy  precision     recall         f1\n",
      "0        0.50    100.000000  99.662291  99.667817  99.655084  99.661450\n",
      "1        0.51    100.000000  99.662291  99.667817  99.655084  99.661450\n",
      "2        0.52     99.993628  99.662270  99.667817  99.655084  99.661450\n",
      "3        0.53     99.993628  99.662270  99.667817  99.655084  99.661450\n",
      "4        0.54     99.987256  99.662248  99.667817  99.655084  99.661450\n",
      "5        0.55     99.980884  99.662227  99.667817  99.655084  99.661450\n",
      "6        0.56     99.980884  99.662227  99.667817  99.655084  99.661450\n",
      "7        0.57     99.980884  99.662227  99.667817  99.655084  99.661450\n",
      "8        0.58     99.942653  99.674849  99.667774  99.680511  99.674142\n",
      "9        0.59     99.936281  99.674828  99.667732  99.680470  99.674101\n",
      "10       0.60     99.923538  99.674786  99.667689  99.680430  99.674059\n",
      "11       0.61     99.917166  99.674766  99.667647  99.680389  99.674017\n",
      "12       0.62     99.904422  99.681102  99.680389  99.680389  99.680389\n",
      "13       0.63     99.898050  99.681082  99.680389  99.680389  99.680389\n",
      "14       0.64     99.891678  99.687440  99.680389  99.693134  99.686761\n",
      "15       0.65     99.878935  99.700159  99.693134  99.705882  99.699508\n",
      "16       0.66     99.872563  99.706520  99.693134  99.718634  99.705882\n",
      "17       0.67     99.853447  99.712845  99.693055  99.731320  99.712184\n",
      "18       0.68     99.847075  99.712827  99.693016  99.731286  99.712147\n",
      "19       0.69     99.847075  99.712827  99.693016  99.731286  99.712147\n",
      "20       0.70     99.808844  99.744637  99.744016  99.744016  99.744016\n",
      "21       0.71     99.796100  99.750990  99.756753  99.743984  99.750368\n",
      "22       0.72     99.789729  99.750974  99.756753  99.743984  99.750368\n",
      "23       0.73     99.776985  99.750942  99.756722  99.743951  99.750336\n",
      "24       0.74     99.751497  99.750878  99.756660  99.743885  99.750272\n",
      "25       0.75     99.732382  99.750831  99.756629  99.743852  99.750240\n",
      "26       0.76     99.713266  99.750783  99.756566  99.743787  99.750176\n",
      "27       0.77     99.700522  99.763533  99.782135  99.743787  99.762957\n",
      "28       0.78     99.675035  99.769865  99.782079  99.756504  99.769290\n",
      "29       0.79     99.662291  99.782623  99.807668  99.756504  99.782079\n",
      "30       0.80     99.662291  99.782623  99.807668  99.756504  99.782079\n",
      "31       0.81     99.655919  99.789003  99.820467  99.756504  99.788475\n",
      "32       0.82     99.636804  99.795357  99.833226  99.756441  99.794819\n",
      "33       0.83     99.617688  99.808111  99.833205  99.781995  99.807594\n",
      "34       0.84     99.579457  99.820834  99.833141  99.807520  99.820329\n",
      "35       0.85     99.566713  99.827211  99.833141  99.820329  99.826734\n",
      "36       0.86     99.547598  99.833579  99.845956  99.820329  99.833141\n",
      "37       0.87     99.534854  99.833557  99.845937  99.820305  99.833119\n",
      "38       0.88     99.483879  99.846282  99.858666  99.833012  99.845838\n",
      "39       0.89     99.464764  99.852659  99.858648  99.845818  99.852233\n",
      "40       0.90     99.432904  99.859020  99.871432  99.845758  99.858594\n",
      "41       0.91     99.426532  99.859011  99.871432  99.845758  99.858594\n",
      "42       0.92     99.356442  99.858911  99.871300  99.845600  99.858448\n",
      "43       0.93     99.299095  99.858830  99.871217  99.845500  99.858357\n",
      "44       0.94     99.203517  99.871540  99.871068  99.871068  99.871068\n",
      "45       0.95     99.165286  99.877916  99.871001  99.883886  99.877443\n",
      "46       0.96     99.076080  99.890668  99.870884  99.909584  99.890231\n",
      "47       0.97     98.872180  99.903332  99.870651  99.935283  99.902957\n",
      "48       0.98     98.655537  99.903120  99.870298  99.935107  99.902692\n",
      "49       0.99     98.222251  99.922154  99.882629  99.960846  99.921722\n"
     ]
    }
   ],
   "source": [
    "thresholds = np.arange(0.5, 1.0, 0.01)\n",
    "\n",
    "results = []\n",
    "\n",
    "for threshold in thresholds:\n",
    "\n",
    "    classifiable_df = probabilities_and_values_df[(probabilities_and_values_df['probabilities_0'] > threshold) | (probabilities_and_values_df['probabilities_1'] > threshold)]\n",
    "    \n",
    "    percentage_classifiable = (len(classifiable_df) / len(probabilities_and_values_df)) * 100\n",
    "    \n",
    "    predicted_labels = np.where(classifiable_df['probabilities_1'] > threshold, 1, 0)\n",
    "\n",
    "    accuracy = accuracy_score(classifiable_df['actual_values'], predicted_labels) * 100\n",
    "    precision = precision_score(classifiable_df['actual_values'], predicted_labels) * 100\n",
    "    recall = recall_score(classifiable_df['actual_values'], predicted_labels) * 100\n",
    "    f1 = f1_score(classifiable_df['actual_values'], predicted_labels) * 100\n",
    "\n",
    "    results.append({\n",
    "        'threshold': threshold,\n",
    "        'classifiable': percentage_classifiable,\n",
    "        'accuracy': accuracy,\n",
    "        'precision': precision,\n",
    "        'recall': recall,\n",
    "        'f1': f1\n",
    "    })\n",
    "\n",
    "results_df = pd.DataFrame(results)\n",
    "\n",
    "print(results_df.head(50))"
   ]
  }
 ],
 "metadata": {
  "kernelspec": {
   "display_name": "venv",
   "language": "python",
   "name": "python3"
  },
  "language_info": {
   "codemirror_mode": {
    "name": "ipython",
    "version": 3
   },
   "file_extension": ".py",
   "mimetype": "text/x-python",
   "name": "python",
   "nbconvert_exporter": "python",
   "pygments_lexer": "ipython3",
   "version": "3.12.2"
  }
 },
 "nbformat": 4,
 "nbformat_minor": 2
}
