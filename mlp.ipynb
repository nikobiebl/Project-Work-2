{
 "cells": [
  {
   "cell_type": "markdown",
   "metadata": {},
   "source": [
    "## Imports"
   ]
  },
  {
   "cell_type": "code",
   "execution_count": 25,
   "metadata": {},
   "outputs": [],
   "source": [
    "# imports\n",
    "import pandas as pd\n",
    "import numpy as np\n",
    "import matplotlib.pyplot as plt\n",
    "import seaborn as sns\n",
    "from sklearn.model_selection import train_test_split\n",
    "from sklearn.metrics import (\n",
    "    accuracy_score, f1_score, precision_score, recall_score,\n",
    "    confusion_matrix, ConfusionMatrixDisplay, classification_report\n",
    ")\n",
    "from sklearn.neural_network import MLPClassifier\n",
    "from sklearn.feature_extraction.text import TfidfVectorizer\n",
    "from sklearn.model_selection import GridSearchCV"
   ]
  },
  {
   "cell_type": "markdown",
   "metadata": {},
   "source": [
    "## Define Functions"
   ]
  },
  {
   "cell_type": "code",
   "execution_count": 26,
   "metadata": {},
   "outputs": [],
   "source": [
    "# define evaluation function\n",
    "def evaluate(y_pred):\n",
    "    accuracy = accuracy_score(y_test, y_pred)\n",
    "    f1 = f1_score(y_test, y_pred)\n",
    "    precision = precision_score(y_test, y_pred)\n",
    "    recall = recall_score(y_test, y_pred)\n",
    "\n",
    "    conf_mat = confusion_matrix(y_test, y_pred)\n",
    "    disp = ConfusionMatrixDisplay(confusion_matrix=conf_mat)\n",
    "    \n",
    "    print(\"Accuracy:    \", accuracy)\n",
    "    print(\"F1-Score:    \", f1)\n",
    "    print(\"Precision:   \", precision)\n",
    "    print(\"Recall:      \", recall)\n",
    "    print()\n",
    "    print(classification_report(y_test, y_pred))\n",
    "    print()\n",
    "\n",
    "    disp.plot()"
   ]
  },
  {
   "cell_type": "markdown",
   "metadata": {},
   "source": [
    "## Load .csv into DF"
   ]
  },
  {
   "cell_type": "code",
   "execution_count": 27,
   "metadata": {},
   "outputs": [],
   "source": [
    "# load data into dataframe\n",
    "df = pd.read_csv(\"phishing_email_projectthesis.csv\") "
   ]
  },
  {
   "cell_type": "markdown",
   "metadata": {},
   "source": [
    "## Prepare Data"
   ]
  },
  {
   "cell_type": "code",
   "execution_count": 28,
   "metadata": {},
   "outputs": [],
   "source": [
    "# rename columns\n",
    "df = df.rename(columns={'text_combined': 'content'}).rename(columns={'label': 'target'}) "
   ]
  },
  {
   "cell_type": "code",
   "execution_count": 29,
   "metadata": {},
   "outputs": [],
   "source": [
    "# drop duplicates but keep the first\n",
    "df = df.drop_duplicates(keep='first') "
   ]
  },
  {
   "cell_type": "code",
   "execution_count": 30,
   "metadata": {},
   "outputs": [
    {
     "name": "stderr",
     "output_type": "stream",
     "text": [
      "/var/folders/gr/nkq2fp191y1_3wywjp14_sz00000gn/T/ipykernel_1722/842751370.py:2: DeprecationWarning: DataFrameGroupBy.apply operated on the grouping columns. This behavior is deprecated, and in a future version of pandas the grouping columns will be excluded from the operation. Either pass `include_groups=False` to exclude the groupings or explicitly select the grouping columns after groupby to silence this warning.\n",
      "  df = df.groupby('target').apply(lambda x: x.sample(39233, replace=True, random_state=42)).reset_index(drop=True)\n"
     ]
    }
   ],
   "source": [
    "# randomized undersampling\n",
    "df = df.groupby('target').apply(lambda x: x.sample(39233, replace=True, random_state=42)).reset_index(drop=True)"
   ]
  },
  {
   "cell_type": "markdown",
   "metadata": {},
   "source": [
    "## Split Data into Training and Test 80-20"
   ]
  },
  {
   "cell_type": "code",
   "execution_count": 31,
   "metadata": {},
   "outputs": [
    {
     "name": "stdout",
     "output_type": "stream",
     "text": [
      "Shape of X_train: (62772,)\n",
      "Shape of X_test: (15694,)\n",
      "Shape of y_train: (62772,)\n",
      "Shape of y_test: (15694,)\n"
     ]
    }
   ],
   "source": [
    "# define X and Y\n",
    "X = df['content']\n",
    "y = df['target']\n",
    "\n",
    "# split data \n",
    "X_train, X_test, y_train, y_test = train_test_split(X, y, test_size=0.2, random_state=42)\n",
    "\n",
    "# check the shape\n",
    "print(\"Shape of X_train:\", X_train.shape)\n",
    "print(\"Shape of X_test:\", X_test.shape)\n",
    "print(\"Shape of y_train:\", y_train.shape)\n",
    "print(\"Shape of y_test:\", y_test.shape)"
   ]
  },
  {
   "cell_type": "markdown",
   "metadata": {},
   "source": [
    "## Vektorize with TF-IDF"
   ]
  },
  {
   "cell_type": "code",
   "execution_count": 32,
   "metadata": {},
   "outputs": [],
   "source": [
    "# creating vectorizer object with standart parameters\n",
    "vectorizer = TfidfVectorizer()\n",
    "\n",
    "# fit on and tranform training data\n",
    "X_train_tfidf = vectorizer.fit_transform(X_train)\n",
    "\n",
    "# transform test data \n",
    "X_test_tfidf = vectorizer.transform(X_test)"
   ]
  },
  {
   "cell_type": "markdown",
   "metadata": {},
   "source": [
    "## Multi Layer Perceptron"
   ]
  },
  {
   "cell_type": "code",
   "execution_count": 59,
   "metadata": {},
   "outputs": [
    {
     "name": "stderr",
     "output_type": "stream",
     "text": [
      "/Users/nikobiebl/.local/share/virtualenvs/Project-Thesis-PGQKRxl5/lib/python3.12/site-packages/sklearn/neural_network/_multilayer_perceptron.py:690: ConvergenceWarning: Stochastic Optimizer: Maximum iterations (5) reached and the optimization hasn't converged yet.\n",
      "  warnings.warn(\n"
     ]
    },
    {
     "name": "stdout",
     "output_type": "stream",
     "text": [
      "Accuracy:     0.9962406015037594\n",
      "F1-Score:     0.9962317174426774\n",
      "Precision:    0.9961680929876102\n",
      "Recall:       0.9962953500255494\n",
      "\n",
      "              precision    recall  f1-score   support\n",
      "\n",
      "           0       1.00      1.00      1.00      7866\n",
      "           1       1.00      1.00      1.00      7828\n",
      "\n",
      "    accuracy                           1.00     15694\n",
      "   macro avg       1.00      1.00      1.00     15694\n",
      "weighted avg       1.00      1.00      1.00     15694\n",
      "\n",
      "\n"
     ]
    },
    {
     "data": {
      "image/png": "[encoded data removed]",
      "text/plain": [
       "<Figure size 640x480 with 2 Axes>"
      ]
     },
     "metadata": {},
     "output_type": "display_data"
    }
   ],
   "source": [
    "# create classifier object\n",
    "mlp_tfidf_classifier = MLPClassifier(hidden_layer_sizes=(100, 50, 25), max_iter=5,random_state=42)\n",
    "\n",
    "# train classifier\n",
    "mlp_tfidf_classifier.fit(X_train_tfidf, y_train)\n",
    "\n",
    "# test classifier\n",
    "mlp_tfidf_predictions = mlp_tfidf_classifier.predict(X_test_tfidf)\n",
    "\n",
    "# evaluate\n",
    "evaluate(mlp_tfidf_predictions)"
   ]
  },
  {
   "cell_type": "markdown",
   "metadata": {},
   "source": [
    "## Creating Treshold Evaluation"
   ]
  },
  {
   "cell_type": "code",
   "execution_count": 41,
   "metadata": {},
   "outputs": [
    {
     "name": "stdout",
     "output_type": "stream",
     "text": [
      "(15694, 3)\n",
      "       probabilities_0  probabilities_1  actual_values\n",
      "30578         0.999153         0.000847              0\n",
      "75285         0.001673         0.998327              1\n",
      "47368         0.017618         0.982382              1\n",
      "23969         0.998966         0.001034              0\n",
      "53099         0.011854         0.988146              1\n",
      "14076         0.992542         0.007458              0\n",
      "20565         0.988225         0.011775              0\n",
      "62974         0.013711         0.986289              1\n",
      "55285         0.002055         0.997945              1\n",
      "61165         0.005221         0.994779              1\n",
      "49031         0.017565         0.982435              1\n",
      "65834         0.004742         0.995258              1\n",
      "64319         0.008453         0.991547              1\n",
      "63695         0.000791         0.999209              1\n",
      "77050         0.002538         0.997462              1\n",
      "15197         0.992392         0.007608              0\n",
      "9908          0.997671         0.002329              0\n",
      "25013         0.998564         0.001436              0\n",
      "71658         0.006524         0.993476              1\n",
      "70520         0.002872         0.997128              1\n"
     ]
    }
   ],
   "source": [
    "probabilities = mlp_tfidf_classifier.predict_proba(X_test_tfidf)\n",
    "\n",
    "probabilities_0 = probabilities[:, 0]\n",
    "probabilities_1 = probabilities[:, 1]\n",
    "\n",
    "actual_values = y_test\n",
    "\n",
    "probabilities_and_values_df = pd.DataFrame({\n",
    "    'probabilities_0': probabilities_0,\n",
    "    'probabilities_1': probabilities_1,\n",
    "    'actual_values': actual_values\n",
    "})\n",
    "\n",
    "print(probabilities_and_values_df.shape)\n",
    "print(probabilities_and_values_df.head(20))"
   ]
  },
  {
   "cell_type": "code",
   "execution_count": 42,
   "metadata": {},
   "outputs": [
    {
     "name": "stdout",
     "output_type": "stream",
     "text": [
      "(88, 3)\n",
      "       probabilities_0  probabilities_1  actual_values\n",
      "37645         0.593714         0.406286              0\n",
      "30282         0.440991         0.559009              0\n",
      "51980         0.502553         0.497447              1\n",
      "21564         0.419556         0.580444              0\n",
      "60885         0.553936         0.446064              1\n",
      "37935         0.541618         0.458382              0\n",
      "2107          0.590423         0.409577              0\n",
      "36478         0.415059         0.584941              0\n",
      "61891         0.544561         0.455439              1\n",
      "65646         0.547143         0.452857              1\n",
      "10406         0.571553         0.428447              0\n",
      "21104         0.586314         0.413686              0\n",
      "42265         0.423314         0.576686              1\n",
      "18138         0.453339         0.546661              0\n",
      "68458         0.499897         0.500103              1\n",
      "68747         0.432196         0.567804              1\n",
      "8248          0.415059         0.584941              0\n",
      "19437         0.461050         0.538950              0\n",
      "53933         0.423082         0.576918              1\n",
      "23754         0.435577         0.564423              0\n",
      "54503         0.508142         0.491858              1\n",
      "67647         0.544060         0.455940              1\n"
     ]
    }
   ],
   "source": [
    "under_60_percent_df = probabilities_and_values_df[(probabilities_and_values_df['probabilities_0'] < 0.6) & (probabilities_and_values_df['probabilities_1'] < 0.60)]\n",
    "\n",
    "print(under_60_percent_df.shape)\n",
    "print(under_60_percent_df.head(22))"
   ]
  },
  {
   "cell_type": "code",
   "execution_count": 43,
   "metadata": {},
   "outputs": [
    {
     "name": "stdout",
     "output_type": "stream",
     "text": [
      "    threshold  classifiable    accuracy   precision      recall          f1\n",
      "0        0.50    100.000000   99.311839   99.159450   99.463464   99.311224\n",
      "1        0.51     99.942653   99.343322   99.184402   99.501406   99.342651\n",
      "2        0.52     99.904422   99.362204   99.209688   99.514129   99.361675\n",
      "3        0.53     99.840703   99.406471   99.247449   99.564939   99.405941\n",
      "4        0.54     99.802472   99.425397   99.285350   99.564884   99.424920\n",
      "5        0.55     99.713266   99.476005   99.310521   99.641302   99.475636\n",
      "6        0.56     99.643176   99.494820   99.322857   99.666667   99.494465\n",
      "7        0.57     99.592201   99.526552   99.373482   99.679364   99.526188\n",
      "8        0.58     99.541226   99.545513   99.398746   99.692071   99.545192\n",
      "9        0.59     99.496623   99.570925   99.449635   99.692071   99.570705\n",
      "10       0.60     99.439276   99.589901   99.487771   99.692031   99.589796\n",
      "11       0.61     99.401045   99.602564   99.500384   99.704750   99.602462\n",
      "12       0.62     99.350070   99.628014   99.551282   99.704674   99.627919\n",
      "13       0.63     99.260864   99.653357   99.602207   99.704560   99.653357\n",
      "14       0.64     99.203517   99.659580   99.602105   99.717296   99.659667\n",
      "15       0.65     99.114311   99.678560   99.640195   99.717078   99.678622\n",
      "16       0.66     99.044221   99.684766   99.639918   99.729695   99.684786\n",
      "17       0.67     98.942271   99.690881   99.639454   99.742202   99.690801\n",
      "18       0.68     98.865809   99.703532   99.651972   99.754839   99.703379\n",
      "19       0.69     98.827577   99.703417   99.651793   99.754712   99.703226\n",
      "20       0.70     98.744743   99.716074   99.651568   99.780333   99.715909\n",
      "21       0.71     98.661909   99.728752   99.677169   99.780248   99.728682\n",
      "22       0.72     98.623678   99.748029   99.702881   99.793121   99.747981\n",
      "23       0.73     98.572703   99.760827   99.702766   99.818864   99.760781\n",
      "24       0.74     98.496241   99.767111   99.715505   99.818770   99.767111\n",
      "25       0.75     98.400663   99.773360   99.715210   99.831519   99.773331\n",
      "26       0.76     98.362432   99.773272   99.715026   99.831410   99.773184\n",
      "27       0.77     98.215879   99.792397   99.753567   99.831256   99.792397\n",
      "28       0.78     98.094813   99.798636   99.766203   99.831037   99.798610\n",
      "29       0.79     97.941889   99.798322   99.765808   99.830751   99.798269\n",
      "30       0.80     97.846311   99.804637   99.765656   99.843648   99.804637\n",
      "31       0.81     97.604180   99.823737   99.778213   99.869418   99.823794\n",
      "32       0.82     97.400280   99.823368   99.777749   99.869144   99.823426\n",
      "33       0.83     97.260099   99.855870   99.790576   99.921363   99.855927\n",
      "34       0.84     97.017969   99.868646   99.816297   99.921187   99.868715\n",
      "35       0.85     96.782210   99.881493   99.842064   99.920969   99.881501\n",
      "36       0.86     96.578310   99.887841   99.854920   99.920813   99.887855\n",
      "37       0.87     96.221486   99.907291   99.880826   99.933757   99.907285\n",
      "38       0.88     95.749968   99.913489   99.893518   99.933422   99.913466\n",
      "39       0.89     95.380400   99.913154   99.893034   99.933119   99.913073\n",
      "40       0.90     94.838792   99.932814   99.932751   99.932751   99.932751\n",
      "41       0.91     94.220721   99.932373   99.932323   99.932323   99.932323\n",
      "42       0.92     93.500701   99.945482   99.931778   99.959056   99.945415\n",
      "43       0.93     92.672359   99.944994   99.931101   99.958649   99.944873\n",
      "44       0.94     91.174971   99.951080   99.943860   99.957889   99.950874\n",
      "45       0.95     89.658468   99.964466   99.942808   99.985696   99.964247\n",
      "46       0.96     87.504779   99.970873   99.941246  100.000000   99.970614\n",
      "47       0.97     84.433541  100.000000  100.000000  100.000000  100.000000\n",
      "48       0.98     79.508092  100.000000  100.000000  100.000000  100.000000\n",
      "49       0.99     67.771123  100.000000  100.000000  100.000000  100.000000\n"
     ]
    }
   ],
   "source": [
    "thresholds = np.arange(0.5, 1.0, 0.01)\n",
    "\n",
    "results = []\n",
    "\n",
    "for threshold in thresholds:\n",
    "\n",
    "    classifiable_df = probabilities_and_values_df[(probabilities_and_values_df['probabilities_0'] > threshold) | (probabilities_and_values_df['probabilities_1'] > threshold)]\n",
    "    \n",
    "    percentage_classifiable = (len(classifiable_df) / len(probabilities_and_values_df)) * 100\n",
    "    \n",
    "    predicted_labels = np.where(classifiable_df['probabilities_1'] > threshold, 1, 0)\n",
    "\n",
    "    accuracy = accuracy_score(classifiable_df['actual_values'], predicted_labels) * 100\n",
    "    precision = precision_score(classifiable_df['actual_values'], predicted_labels) * 100\n",
    "    recall = recall_score(classifiable_df['actual_values'], predicted_labels) * 100\n",
    "    f1 = f1_score(classifiable_df['actual_values'], predicted_labels) * 100\n",
    "\n",
    "    results.append({\n",
    "        'threshold': threshold,\n",
    "        'classifiable': percentage_classifiable,\n",
    "        'accuracy': accuracy,\n",
    "        'precision': precision,\n",
    "        'recall': recall,\n",
    "        'f1': f1\n",
    "    })\n",
    "\n",
    "results_df = pd.DataFrame(results)\n",
    "\n",
    "print(results_df.head(50))"
   ]
  }
 ],
 "metadata": {
  "kernelspec": {
   "display_name": "venv",
   "language": "python",
   "name": "python3"
  },
  "language_info": {
   "codemirror_mode": {
    "name": "ipython",
    "version": 3
   },
   "file_extension": ".py",
   "mimetype": "text/x-python",
   "name": "python",
   "nbconvert_exporter": "python",
   "pygments_lexer": "ipython3",
   "version": "3.12.2"
  }
 },
 "nbformat": 4,
 "nbformat_minor": 2
}
