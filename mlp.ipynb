{
 "cells": [
  {
   "cell_type": "markdown",
   "metadata": {},
   "source": [
    "## Imports"
   ]
  },
  {
   "cell_type": "code",
   "execution_count": 5,
   "metadata": {},
   "outputs": [],
   "source": [
    "# imports\n",
    "import pandas as pd\n",
    "import numpy as np\n",
    "import matplotlib.pyplot as plt\n",
    "import seaborn as sns\n",
    "from sklearn.model_selection import train_test_split\n",
    "from sklearn.metrics import (\n",
    "    accuracy_score, f1_score, precision_score, recall_score,\n",
    "    confusion_matrix, ConfusionMatrixDisplay, classification_report\n",
    ")\n",
    "from sklearn.neural_network import MLPClassifier\n",
    "from sklearn.feature_extraction.text import TfidfVectorizer\n",
    "from sklearn.model_selection import GridSearchCV"
   ]
  },
  {
   "cell_type": "markdown",
   "metadata": {},
   "source": [
    "## Define Functions"
   ]
  },
  {
   "cell_type": "code",
   "execution_count": 6,
   "metadata": {},
   "outputs": [],
   "source": [
    "# define evaluation function\n",
    "def evaluate(y_pred):\n",
    "    accuracy = accuracy_score(y_test, y_pred)\n",
    "    f1 = f1_score(y_test, y_pred)\n",
    "    precision = precision_score(y_test, y_pred)\n",
    "    recall = recall_score(y_test, y_pred)\n",
    "\n",
    "    conf_mat = confusion_matrix(y_test, y_pred)\n",
    "    disp = ConfusionMatrixDisplay(confusion_matrix=conf_mat)\n",
    "    \n",
    "    print(\"Accuracy:    \", accuracy)\n",
    "    print(\"F1-Score:    \", f1)\n",
    "    print(\"Precision:   \", precision)\n",
    "    print(\"Recall:      \", recall)\n",
    "    print()\n",
    "    print(classification_report(y_test, y_pred))\n",
    "    print()\n",
    "\n",
    "    disp.plot()"
   ]
  },
  {
   "cell_type": "markdown",
   "metadata": {},
   "source": [
    "## Load .csv into DF"
   ]
  },
  {
   "cell_type": "code",
   "execution_count": 7,
   "metadata": {},
   "outputs": [],
   "source": [
    "# load data into dataframe\n",
    "df = pd.read_csv(\"phishing_email_projectthesis.csv\") "
   ]
  },
  {
   "cell_type": "markdown",
   "metadata": {},
   "source": [
    "## Prepare Data"
   ]
  },
  {
   "cell_type": "code",
   "execution_count": 8,
   "metadata": {},
   "outputs": [],
   "source": [
    "# rename columns\n",
    "df = df.rename(columns={'text_combined': 'content'}).rename(columns={'label': 'target'}) "
   ]
  },
  {
   "cell_type": "code",
   "execution_count": 9,
   "metadata": {},
   "outputs": [],
   "source": [
    "# drop duplicates but keep the first\n",
    "df = df.drop_duplicates(keep='first') "
   ]
  },
  {
   "cell_type": "code",
   "execution_count": 10,
   "metadata": {},
   "outputs": [
    {
     "name": "stderr",
     "output_type": "stream",
     "text": [
      "/var/folders/gr/nkq2fp191y1_3wywjp14_sz00000gn/T/ipykernel_90068/196238678.py:2: DeprecationWarning: DataFrameGroupBy.apply operated on the grouping columns. This behavior is deprecated, and in a future version of pandas the grouping columns will be excluded from the operation. Either pass `include_groups=False` to exclude the groupings or explicitly select the grouping columns after groupby to silence this warning.\n",
      "  df = df.groupby('target').apply(lambda x: x.sample(39233, replace=True)).reset_index(drop=True)\n"
     ]
    }
   ],
   "source": [
    "# randomized undersampling\n",
    "df = df.groupby('target').apply(lambda x: x.sample(39233, replace=True, random_state=42)).reset_index(drop=True)"
   ]
  },
  {
   "cell_type": "markdown",
   "metadata": {},
   "source": [
    "## Split Data into Training and Test 80-20"
   ]
  },
  {
   "cell_type": "code",
   "execution_count": 11,
   "metadata": {},
   "outputs": [
    {
     "name": "stdout",
     "output_type": "stream",
     "text": [
      "Shape of X_train: (62772,)\n",
      "Shape of X_test: (15694,)\n",
      "Shape of y_train: (62772,)\n",
      "Shape of y_test: (15694,)\n"
     ]
    }
   ],
   "source": [
    "# define X and Y\n",
    "X = df['content']\n",
    "y = df['target']\n",
    "\n",
    "# split data \n",
    "X_train, X_test, y_train, y_test = train_test_split(X, y, test_size=0.2, random_state=42)\n",
    "\n",
    "# check the shape\n",
    "print(\"Shape of X_train:\", X_train.shape)\n",
    "print(\"Shape of X_test:\", X_test.shape)\n",
    "print(\"Shape of y_train:\", y_train.shape)\n",
    "print(\"Shape of y_test:\", y_test.shape)"
   ]
  },
  {
   "cell_type": "markdown",
   "metadata": {},
   "source": [
    "## Vektorize with TF-IDF"
   ]
  },
  {
   "cell_type": "code",
   "execution_count": 12,
   "metadata": {},
   "outputs": [],
   "source": [
    "# creating vectorizer object with standart parameters\n",
    "vectorizer = TfidfVectorizer()\n",
    "\n",
    "# fit on and tranform training data\n",
    "X_train_tfidf = vectorizer.fit_transform(X_train)\n",
    "\n",
    "# transform test data \n",
    "X_test_tfidf = vectorizer.transform(X_test)"
   ]
  },
  {
   "cell_type": "markdown",
   "metadata": {},
   "source": [
    "## Multi Layer Perceptron"
   ]
  },
  {
   "cell_type": "code",
   "execution_count": 13,
   "metadata": {},
   "outputs": [
    {
     "name": "stderr",
     "output_type": "stream",
     "text": [
      "/Users/nikobiebl/.local/share/virtualenvs/Project-Thesis-PGQKRxl5/lib/python3.12/site-packages/sklearn/neural_network/_multilayer_perceptron.py:690: ConvergenceWarning: Stochastic Optimizer: Maximum iterations (1) reached and the optimization hasn't converged yet.\n",
      "  warnings.warn(\n"
     ]
    },
    {
     "name": "stdout",
     "output_type": "stream",
     "text": [
      "Accuracy:     0.9958582897922773\n",
      "F1-Score:     0.9958522110905494\n",
      "Precision:    0.9948999107484381\n",
      "Recall:       0.9968063362289218\n",
      "\n",
      "              precision    recall  f1-score   support\n",
      "\n",
      "           0       1.00      0.99      1.00      7866\n",
      "           1       0.99      1.00      1.00      7828\n",
      "\n",
      "    accuracy                           1.00     15694\n",
      "   macro avg       1.00      1.00      1.00     15694\n",
      "weighted avg       1.00      1.00      1.00     15694\n",
      "\n",
      "\n"
     ]
    },
    {
     "data": {
      "image/png": "[encoded data removed]",
      "text/plain": [
       "<Figure size 640x480 with 2 Axes>"
      ]
     },
     "metadata": {},
     "output_type": "display_data"
    }
   ],
   "source": [
    "# create classifier object\n",
    "mlp_tfidf_classifier = MLPClassifier(hidden_layer_sizes=(100, 50, 25), max_iter=1, random_state=42)\n",
    "\n",
    "# train classifier\n",
    "mlp_tfidf_classifier.fit(X_train_tfidf, y_train)\n",
    "\n",
    "# test classifier\n",
    "mlp_tfidf_predictions = mlp_tfidf_classifier.predict(X_test_tfidf)\n",
    "\n",
    "# evaluate\n",
    "evaluate(mlp_tfidf_predictions)"
   ]
  },
  {
   "cell_type": "markdown",
   "metadata": {},
   "source": [
    "## Creating Treshold Evaluation"
   ]
  },
  {
   "cell_type": "code",
   "execution_count": 29,
   "metadata": {},
   "outputs": [
    {
     "name": "stdout",
     "output_type": "stream",
     "text": [
      "(15694, 3)\n",
      "       probabilities_0  probabilities_1  actual_values\n",
      "30578         0.999989         0.000011              0\n",
      "75285         0.003560         0.996440              1\n",
      "47368         0.000184         0.999816              1\n",
      "23969         0.998779         0.001221              0\n",
      "53099         0.005128         0.994872              1\n",
      "14076         0.998696         0.001304              0\n",
      "20565         0.997706         0.002294              0\n",
      "62974         0.001848         0.998152              1\n",
      "55285         0.000178         0.999822              1\n",
      "61165         0.000050         0.999950              1\n",
      "49031         0.001270         0.998730              1\n",
      "65834         0.000414         0.999586              1\n",
      "64319         0.001902         0.998098              1\n",
      "63695         0.000028         0.999972              1\n",
      "77050         0.001509         0.998491              1\n",
      "15197         0.999992         0.000008              0\n",
      "9908          0.999946         0.000054              0\n",
      "25013         0.998090         0.001910              0\n",
      "71658         0.000092         0.999908              1\n",
      "70520         0.000104         0.999896              1\n"
     ]
    }
   ],
   "source": [
    "probabilities = mlp_tfidf_classifier.predict_proba(X_test_tfidf)\n",
    "\n",
    "probabilities_0 = probabilities[:, 0]\n",
    "probabilities_1 = probabilities[:, 1]\n",
    "\n",
    "actual_values = y_test\n",
    "\n",
    "probabilities_and_values_df = pd.DataFrame({\n",
    "    'probabilities_0': probabilities_0,\n",
    "    'probabilities_1': probabilities_1,\n",
    "    'actual_values': actual_values\n",
    "})\n",
    "\n",
    "print(probabilities_and_values_df.shape)\n",
    "print(probabilities_and_values_df.head(20))"
   ]
  },
  {
   "cell_type": "code",
   "execution_count": 30,
   "metadata": {},
   "outputs": [
    {
     "name": "stdout",
     "output_type": "stream",
     "text": [
      "(29, 3)\n",
      "       probabilities_0  probabilities_1  actual_values\n",
      "18391         0.500447         0.499553              0\n",
      "36287         0.519086         0.480914              0\n",
      "6578          0.537338         0.462662              0\n",
      "70664         0.534081         0.465919              1\n",
      "10945         0.525790         0.474210              0\n",
      "37395         0.510426         0.489574              0\n",
      "58494         0.470098         0.529902              1\n",
      "77120         0.419552         0.580448              1\n",
      "61644         0.454611         0.545389              1\n",
      "72029         0.579881         0.420119              1\n",
      "11839         0.594010         0.405990              0\n",
      "58468         0.572591         0.427409              1\n",
      "60629         0.551819         0.448181              1\n",
      "47575         0.589411         0.410589              1\n",
      "70432         0.426373         0.573627              1\n",
      "36625         0.561197         0.438803              0\n",
      "20086         0.534225         0.465775              0\n",
      "17730         0.592179         0.407821              0\n",
      "25717         0.533203         0.466797              0\n",
      "72009         0.443331         0.556669              1\n",
      "36385         0.538927         0.461073              0\n",
      "21145         0.451318         0.548682              0\n"
     ]
    }
   ],
   "source": [
    "under_60_percent_df = probabilities_and_values_df[(probabilities_and_values_df['probabilities_0'] < 0.6) & (probabilities_and_values_df['probabilities_1'] < 0.60)]\n",
    "\n",
    "print(under_60_percent_df.shape)\n",
    "print(under_60_percent_df.head(22))"
   ]
  },
  {
   "cell_type": "code",
   "execution_count": 31,
   "metadata": {},
   "outputs": [
    {
     "name": "stdout",
     "output_type": "stream",
     "text": [
      "    threshold  classifiable   accuracy   precision     recall         f1\n",
      "0        0.50    100.000000  99.643176   99.604289  99.680634  99.642447\n",
      "1        0.51     99.993628  99.643153   99.604289  99.680634  99.642447\n",
      "2        0.52     99.974513  99.643085   99.604289  99.680634  99.642447\n",
      "3        0.53     99.949025  99.649369   99.604188  99.693291  99.648719\n",
      "4        0.54     99.898050  99.668325   99.616907  99.718778  99.667817\n",
      "5        0.55     99.885306  99.674662   99.629582  99.718742  99.674142\n",
      "6        0.56     99.872563  99.681000   99.629535  99.731458  99.680470\n",
      "7        0.57     99.866191  99.680980   99.629535  99.731458  99.680470\n",
      "8        0.58     99.847075  99.693682   99.629488  99.756940  99.693173\n",
      "9        0.59     99.827960  99.700006   99.629393  99.769644  99.699469\n",
      "10       0.60     99.815216  99.699968   99.629393  99.769644  99.699469\n",
      "11       0.61     99.789729  99.706277   99.641990  99.769556  99.705732\n",
      "12       0.62     99.764241  99.706202   99.641898  99.769497  99.705657\n",
      "13       0.63     99.726010  99.725257   99.667349  99.782247  99.724765\n",
      "14       0.64     99.719638  99.725240   99.667349  99.782247  99.724765\n",
      "15       0.65     99.706894  99.725204   99.667306  99.782219  99.724730\n",
      "16       0.66     99.700522  99.725187   99.667306  99.782219  99.724730\n",
      "17       0.67     99.687779  99.731544   99.680020  99.782191  99.731080\n",
      "18       0.68     99.675035  99.731509   99.679980  99.782163  99.731045\n",
      "19       0.69     99.649548  99.737835   99.692702  99.782135  99.737398\n",
      "20       0.70     99.630432  99.750576   99.718202  99.782107  99.750144\n",
      "21       0.71     99.598573  99.756893   99.730942  99.782079  99.756504\n",
      "22       0.72     99.522110  99.769511   99.743524  99.794714  99.769112\n",
      "23       0.73     99.509367  99.769482   99.743524  99.794714  99.769112\n",
      "24       0.74     99.464764  99.775785   99.756223  99.794635  99.775425\n",
      "25       0.75     99.426532  99.775699   99.756066  99.794503  99.775281\n",
      "26       0.76     99.401045  99.782051   99.756035  99.807297  99.781659\n",
      "27       0.77     99.388301  99.794845   99.781659  99.807297  99.794477\n",
      "28       0.78     99.343698  99.807581   99.807247  99.807247  99.807247\n",
      "29       0.79     99.305467  99.820340   99.820075  99.820075  99.820075\n",
      "30       0.80     99.267236  99.820271   99.820051  99.820051  99.820051\n",
      "31       0.81     99.241748  99.820225   99.819982  99.819982  99.819982\n",
      "32       0.82     99.203517  99.833001   99.832797  99.832797  99.832797\n",
      "33       0.83     99.178030  99.832959   99.832797  99.832797  99.832797\n",
      "34       0.84     99.107939  99.845699   99.832690  99.858393  99.845540\n",
      "35       0.85     99.069708  99.858503   99.845500  99.871217  99.858357\n",
      "36       0.86     99.018733  99.877735   99.884036  99.871167  99.877601\n",
      "37       0.87     98.935899  99.884073   99.883916  99.883916  99.883916\n",
      "38       0.88     98.833949  99.890400   99.883841  99.896734  99.890287\n",
      "39       0.89     98.744743  99.890301   99.883721  99.896627  99.890174\n",
      "40       0.90     98.687396  99.903151   99.883676  99.922420  99.903044\n",
      "41       0.91     98.610934  99.903076   99.883586  99.922360  99.902969\n",
      "42       0.92     98.502612  99.915907   99.909362  99.922300  99.915830\n",
      "43       0.93     98.400663  99.928770   99.922229  99.935183  99.928706\n",
      "44       0.94     98.222251  99.941615   99.922149  99.961059  99.941600\n",
      "45       0.95     98.018351  99.954495   99.947998  99.960993  99.954495\n",
      "46       0.96     97.801708  99.954394   99.947890  99.960912  99.954400\n",
      "47       0.97     97.413024  99.986918   99.986920  99.986920  99.986920\n",
      "48       0.98     96.839557  99.986840   99.986858  99.986858  99.986858\n",
      "49       0.99     95.125526  99.993302  100.000000  99.986667  99.993333\n"
     ]
    }
   ],
   "source": [
    "thresholds = np.arange(0.5, 1.0, 0.01)\n",
    "\n",
    "results = []\n",
    "\n",
    "for threshold in thresholds:\n",
    "\n",
    "    classifiable_df = probabilities_and_values_df[(probabilities_and_values_df['probabilities_0'] > threshold) | (probabilities_and_values_df['probabilities_1'] > threshold)]\n",
    "    \n",
    "    percentage_classifiable = (len(classifiable_df) / len(probabilities_and_values_df)) * 100\n",
    "    \n",
    "    predicted_labels = np.where(classifiable_df['probabilities_1'] > threshold, 1, 0)\n",
    "\n",
    "    accuracy = accuracy_score(classifiable_df['actual_values'], predicted_labels) * 100\n",
    "    precision = precision_score(classifiable_df['actual_values'], predicted_labels) * 100\n",
    "    recall = recall_score(classifiable_df['actual_values'], predicted_labels) * 100\n",
    "    f1 = f1_score(classifiable_df['actual_values'], predicted_labels) * 100\n",
    "\n",
    "    results.append({\n",
    "        'threshold': threshold,\n",
    "        'classifiable': percentage_classifiable,\n",
    "        'accuracy': accuracy,\n",
    "        'precision': precision,\n",
    "        'recall': recall,\n",
    "        'f1': f1\n",
    "    })\n",
    "\n",
    "results_df = pd.DataFrame(results)\n",
    "\n",
    "print(results_df.head(50))"
   ]
  }
 ],
 "metadata": {
  "kernelspec": {
   "display_name": "venv",
   "language": "python",
   "name": "python3"
  },
  "language_info": {
   "codemirror_mode": {
    "name": "ipython",
    "version": 3
   },
   "file_extension": ".py",
   "mimetype": "text/x-python",
   "name": "python",
   "nbconvert_exporter": "python",
   "pygments_lexer": "ipython3",
   "version": "3.12.2"
  }
 },
 "nbformat": 4,
 "nbformat_minor": 2
}
