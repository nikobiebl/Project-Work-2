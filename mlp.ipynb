{
 "cells": [
  {
   "cell_type": "markdown",
   "metadata": {},
   "source": [
    "## Imports"
   ]
  },
  {
   "cell_type": "code",
   "execution_count": 3,
   "metadata": {},
   "outputs": [],
   "source": [
    "# imports\n",
    "import pandas as pd\n",
    "import numpy as np\n",
    "import matplotlib.pyplot as plt\n",
    "import seaborn as sns\n",
    "from sklearn.model_selection import train_test_split\n",
    "from sklearn.metrics import (\n",
    "    accuracy_score, f1_score, precision_score, recall_score,\n",
    "    confusion_matrix, ConfusionMatrixDisplay, classification_report\n",
    ")\n",
    "from sklearn.neural_network import MLPClassifier\n",
    "from sklearn.feature_extraction.text import TfidfVectorizer"
   ]
  },
  {
   "cell_type": "markdown",
   "metadata": {},
   "source": [
    "## Define Functions"
   ]
  },
  {
   "cell_type": "code",
   "execution_count": 4,
   "metadata": {},
   "outputs": [],
   "source": [
    "# define evaluation function\n",
    "def evaluate(y_pred):\n",
    "    accuracy = accuracy_score(y_test, y_pred)\n",
    "    f1 = f1_score(y_test, y_pred)\n",
    "    precision = precision_score(y_test, y_pred)\n",
    "    recall = recall_score(y_test, y_pred)\n",
    "\n",
    "    conf_mat = confusion_matrix(y_test, y_pred)\n",
    "    disp = ConfusionMatrixDisplay(confusion_matrix=conf_mat)\n",
    "    \n",
    "    print(\"Accuracy:    \", accuracy)\n",
    "    print(\"F1-Score:    \", f1)\n",
    "    print(\"Precision:   \", precision)\n",
    "    print(\"Recall:      \", recall)\n",
    "    print()\n",
    "    print(classification_report(y_test, y_pred))\n",
    "    print()\n",
    "\n",
    "    disp.plot()"
   ]
  },
  {
   "cell_type": "markdown",
   "metadata": {},
   "source": [
    "## Load .csv into DF"
   ]
  },
  {
   "cell_type": "code",
   "execution_count": 5,
   "metadata": {},
   "outputs": [],
   "source": [
    "# load data into dataframe\n",
    "df = pd.read_csv(\"phishing_email_projectthesis.csv\") "
   ]
  },
  {
   "cell_type": "markdown",
   "metadata": {},
   "source": [
    "## Prepare Data"
   ]
  },
  {
   "cell_type": "code",
   "execution_count": 6,
   "metadata": {},
   "outputs": [],
   "source": [
    "# rename columns\n",
    "df = df.rename(columns={'text_combined': 'content'}).rename(columns={'label': 'target'}) "
   ]
  },
  {
   "cell_type": "code",
   "execution_count": 7,
   "metadata": {},
   "outputs": [],
   "source": [
    "# drop duplicates but keep the first\n",
    "df = df.drop_duplicates(keep='first') "
   ]
  },
  {
   "cell_type": "code",
   "execution_count": 8,
   "metadata": {},
   "outputs": [
    {
     "name": "stderr",
     "output_type": "stream",
     "text": [
      "/var/folders/gr/nkq2fp191y1_3wywjp14_sz00000gn/T/ipykernel_50733/196238678.py:2: DeprecationWarning: DataFrameGroupBy.apply operated on the grouping columns. This behavior is deprecated, and in a future version of pandas the grouping columns will be excluded from the operation. Either pass `include_groups=False` to exclude the groupings or explicitly select the grouping columns after groupby to silence this warning.\n",
      "  df = df.groupby('target').apply(lambda x: x.sample(39233, replace=True)).reset_index(drop=True)\n"
     ]
    }
   ],
   "source": [
    "# randomized undersampling\n",
    "df = df.groupby('target').apply(lambda x: x.sample(39233, replace=True)).reset_index(drop=True)"
   ]
  },
  {
   "cell_type": "markdown",
   "metadata": {},
   "source": [
    "## Split Dada into Training and Test 80-20"
   ]
  },
  {
   "cell_type": "code",
   "execution_count": 9,
   "metadata": {},
   "outputs": [
    {
     "name": "stdout",
     "output_type": "stream",
     "text": [
      "Shape of X_train: (62772,)\n",
      "Shape of X_test: (15694,)\n",
      "Shape of y_train: (62772,)\n",
      "Shape of y_test: (15694,)\n"
     ]
    }
   ],
   "source": [
    "# define X and Y\n",
    "X = df['content']\n",
    "y = df['target']\n",
    "\n",
    "# split data \n",
    "X_train, X_test, y_train, y_test = train_test_split(X, y, test_size=0.2, random_state=42)\n",
    "\n",
    "# check the shape\n",
    "print(\"Shape of X_train:\", X_train.shape)\n",
    "print(\"Shape of X_test:\", X_test.shape)\n",
    "print(\"Shape of y_train:\", y_train.shape)\n",
    "print(\"Shape of y_test:\", y_test.shape)"
   ]
  },
  {
   "cell_type": "markdown",
   "metadata": {},
   "source": [
    "## Vektorize with TF-IDF"
   ]
  },
  {
   "cell_type": "code",
   "execution_count": 10,
   "metadata": {},
   "outputs": [],
   "source": [
    "# creating vectorizer object with standart parameters\n",
    "vectorizer = TfidfVectorizer()\n",
    "\n",
    "# fit on and tranform training data\n",
    "X_train_tfidf = vectorizer.fit_transform(X_train)\n",
    "\n",
    "# transform test data \n",
    "X_test_tfidf = vectorizer.transform(X_test)"
   ]
  },
  {
   "cell_type": "markdown",
   "metadata": {},
   "source": [
    "## Multi Layer Perceptron"
   ]
  },
  {
   "cell_type": "code",
   "execution_count": 41,
   "metadata": {},
   "outputs": [
    {
     "name": "stderr",
     "output_type": "stream",
     "text": [
      "/Users/nikobiebl/Desktop/Studium/PA2/Project-Thesis/venv/lib/python3.12/site-packages/sklearn/neural_network/_multilayer_perceptron.py:690: ConvergenceWarning: Stochastic Optimizer: Maximum iterations (4) reached and the optimization hasn't converged yet.\n",
      "  warnings.warn(\n"
     ]
    },
    {
     "name": "stdout",
     "output_type": "stream",
     "text": [
      "Accuracy:     0.9963043201223397\n",
      "F1-Score:     0.9962953500255494\n",
      "Precision:    0.9962953500255494\n",
      "Recall:       0.9962953500255494\n",
      "\n",
      "              precision    recall  f1-score   support\n",
      "\n",
      "           0       1.00      1.00      1.00      7866\n",
      "           1       1.00      1.00      1.00      7828\n",
      "\n",
      "    accuracy                           1.00     15694\n",
      "   macro avg       1.00      1.00      1.00     15694\n",
      "weighted avg       1.00      1.00      1.00     15694\n",
      "\n",
      "\n"
     ]
    },
    {
     "data": {
      "image/png": "[encoded data removed]",
      "text/plain": [
       "<Figure size 640x480 with 2 Axes>"
      ]
     },
     "metadata": {},
     "output_type": "display_data"
    }
   ],
   "source": [
    "# create classifier object\n",
    "mlp_tfidf_classifier = MLPClassifier(max_iter=4, random_state=42)\n",
    "\n",
    "# train classifier\n",
    "mlp_tfidf_classifier.fit(X_train_tfidf, y_train)\n",
    "\n",
    "# test classifier\n",
    "mlp_tfidf_predictions = mlp_tfidf_classifier.predict(X_test_tfidf)\n",
    "\n",
    "# evaluate\n",
    "evaluate(mlp_tfidf_predictions)"
   ]
  },
  {
   "cell_type": "markdown",
   "metadata": {},
   "source": [
    "## Creating Treshold Evaluation"
   ]
  },
  {
   "cell_type": "code",
   "execution_count": 42,
   "metadata": {},
   "outputs": [
    {
     "name": "stdout",
     "output_type": "stream",
     "text": [
      "(15694, 3)\n",
      "       probabilities_0  probabilities_1  actual_values\n",
      "30578         0.998957         0.001043              0\n",
      "75285         0.000278         0.999722              1\n",
      "47368         0.000071         0.999929              1\n",
      "23969         0.999922         0.000078              0\n",
      "53099         0.000040         0.999960              1\n",
      "14076         0.999991         0.000009              0\n",
      "20565         0.999630         0.000370              0\n",
      "62974         0.000179         0.999821              1\n",
      "55285         0.000030         0.999970              1\n",
      "61165         0.000478         0.999522              1\n",
      "49031         0.001629         0.998371              1\n",
      "65834         0.000360         0.999640              1\n",
      "64319         0.002908         0.997092              1\n",
      "63695         0.000186         0.999814              1\n",
      "77050         0.000466         0.999534              1\n",
      "15197         0.999428         0.000572              0\n",
      "9908          0.981216         0.018784              0\n",
      "25013         0.999980         0.000020              0\n",
      "71658         0.000272         0.999728              1\n",
      "70520         0.000229         0.999771              1\n"
     ]
    }
   ],
   "source": [
    "probabilities = mlp_tfidf_classifier.predict_proba(X_test_tfidf)\n",
    "\n",
    "probabilities_0 = probabilities[:, 0]\n",
    "probabilities_1 = probabilities[:, 1]\n",
    "\n",
    "actual_values = y_test\n",
    "\n",
    "probabilities_and_values_df = pd.DataFrame({\n",
    "    'probabilities_0': probabilities_0,\n",
    "    'probabilities_1': probabilities_1,\n",
    "    'actual_values': actual_values\n",
    "})\n",
    "\n",
    "print(probabilities_and_values_df.shape)\n",
    "print(probabilities_and_values_df.head(20))"
   ]
  },
  {
   "cell_type": "code",
   "execution_count": 45,
   "metadata": {},
   "outputs": [
    {
     "name": "stdout",
     "output_type": "stream",
     "text": [
      "(22, 3)\n",
      "       probabilities_0  probabilities_1  actual_values\n",
      "71855         0.451607         0.548393              1\n",
      "20776         0.544027         0.455973              0\n",
      "62399         0.475661         0.524339              1\n",
      "58881         0.513382         0.486618              1\n",
      "38003         0.537223         0.462777              0\n",
      "74776         0.484281         0.515719              1\n",
      "67052         0.452829         0.547171              1\n",
      "64740         0.490550         0.509450              1\n",
      "10942         0.477338         0.522662              0\n",
      "29411         0.592670         0.407330              0\n",
      "73937         0.473409         0.526591              1\n",
      "53976         0.455400         0.544600              1\n",
      "23626         0.591834         0.408166              0\n",
      "13645         0.423226         0.576774              0\n",
      "9986          0.407673         0.592327              0\n",
      "22269         0.585735         0.414265              0\n",
      "38028         0.508283         0.491717              0\n",
      "10374         0.461101         0.538899              0\n",
      "60772         0.442913         0.557087              1\n",
      "43748         0.448153         0.551847              1\n",
      "52630         0.463622         0.536378              1\n",
      "71642         0.407320         0.592680              1\n"
     ]
    }
   ],
   "source": [
    "under_60_percent_df = probabilities_and_values_df[(probabilities_and_values_df['probabilities_0'] < 0.6) & (probabilities_and_values_df['probabilities_1'] < 0.60)]\n",
    "\n",
    "print(under_60_percent_df.shape)\n",
    "print(under_60_percent_df.head(22))"
   ]
  },
  {
   "cell_type": "code",
   "execution_count": 46,
   "metadata": {},
   "outputs": [
    {
     "name": "stdout",
     "output_type": "stream",
     "text": [
      "    threshold  classifiable   accuracy  precision     recall         f1\n",
      "0        0.50    100.000000  99.630432  99.629535  99.629535  99.629535\n",
      "1        0.51     99.987256  99.630385  99.629488  99.629488  99.629488\n",
      "2        0.52     99.974513  99.636711  99.629440  99.642173  99.635806\n",
      "3        0.53     99.955397  99.643017  99.642081  99.642081  99.642081\n",
      "4        0.54     99.936281  99.649324  99.654776  99.642035  99.648405\n",
      "5        0.55     99.910794  99.649235  99.654643  99.641898  99.648270\n",
      "6        0.56     99.898050  99.649190  99.654555  99.641806  99.648180\n",
      "7        0.57     99.898050  99.649190  99.654555  99.641806  99.648180\n",
      "8        0.58     99.891678  99.655546  99.667306  99.641806  99.654555\n",
      "9        0.59     99.885306  99.655524  99.667306  99.641806  99.654555\n",
      "10       0.60     99.859819  99.661817  99.680020  99.641760  99.660887\n",
      "11       0.61     99.840703  99.661753  99.680020  99.641760  99.660887\n",
      "12       0.62     99.821588  99.668071  99.679980  99.654466  99.667221\n",
      "13       0.63     99.815216  99.674433  99.679980  99.667221  99.673600\n",
      "14       0.64     99.789729  99.680736  99.692702  99.667179  99.679939\n",
      "15       0.65     99.757869  99.687021  99.692584  99.679816  99.686199\n",
      "16       0.66     99.706894  99.693252  99.692544  99.692544  99.692544\n",
      "17       0.67     99.655919  99.693095  99.692387  99.692387  99.692387\n",
      "18       0.68     99.630432  99.693016  99.692347  99.692347  99.692347\n",
      "19       0.69     99.592201  99.705694  99.717804  99.692229  99.705015\n",
      "20       0.70     99.566713  99.718418  99.743359  99.692189  99.717768\n",
      "21       0.71     99.560342  99.718400  99.743326  99.692150  99.717732\n",
      "22       0.72     99.541226  99.718346  99.743294  99.692110  99.717695\n",
      "23       0.73     99.509367  99.718256  99.743261  99.692071  99.717659\n",
      "24       0.74     99.477507  99.737382  99.743228  99.730424  99.736825\n",
      "25       0.75     99.458392  99.743738  99.743195  99.743195  99.743195\n",
      "26       0.76     99.439276  99.750096  99.743195  99.756004  99.749599\n",
      "27       0.77     99.401045  99.756410  99.755847  99.755847  99.755847\n",
      "28       0.78     99.369186  99.762744  99.768578  99.755753  99.762165\n",
      "29       0.79     99.356442  99.762714  99.768548  99.755721  99.762134\n",
      "30       0.80     99.318211  99.762623  99.768519  99.755690  99.762104\n",
      "31       0.81     99.248120  99.768875  99.768280  99.768280  99.768280\n",
      "32       0.82     99.209889  99.788054  99.806776  99.768220  99.787494\n",
      "33       0.83     99.171658  99.794397  99.819564  99.768131  99.793841\n",
      "34       0.84     99.107939  99.807124  99.832301  99.780815  99.806551\n",
      "35       0.85     99.063336  99.819901  99.845121  99.793602  99.819355\n",
      "36       0.86     99.012361  99.832679  99.845041  99.819262  99.832150\n",
      "37       0.87     98.929527  99.838980  99.844921  99.832020  99.838470\n",
      "38       0.88     98.846693  99.845291  99.857660  99.831824  99.844741\n",
      "39       0.89     98.744743  99.845131  99.857458  99.831584  99.844519\n",
      "40       0.90     98.712884  99.845081  99.857402  99.831519  99.844459\n",
      "41       0.91     98.617306  99.857854  99.870214  99.844297  99.857254\n",
      "42       0.92     98.464381  99.870575  99.883071  99.857124  99.870096\n",
      "43       0.93     98.266854  99.876799  99.895752  99.856715  99.876230\n",
      "44       0.94     98.056582  99.889531  99.895534  99.882491  99.889012\n",
      "45       0.95     97.744361  99.915254  99.947610  99.882199  99.914894\n",
      "46       0.96     97.406652  99.921502  99.960563  99.881781  99.921156\n",
      "47       0.97     96.680260  99.940684  99.973531  99.907420  99.940464\n",
      "48       0.98     95.616159  99.946688  99.973201  99.919646  99.946417\n",
      "49       0.99     93.137505  99.972635  99.986239  99.958729  99.972482\n"
     ]
    }
   ],
   "source": [
    "thresholds = np.arange(0.5, 1.0, 0.01)\n",
    "\n",
    "results = []\n",
    "\n",
    "for threshold in thresholds:\n",
    "\n",
    "    classifiable_df = probabilities_and_values_df[(probabilities_and_values_df['probabilities_0'] > threshold) | (probabilities_and_values_df['probabilities_1'] > threshold)]\n",
    "    \n",
    "    percentage_classifiable = (len(classifiable_df) / len(probabilities_and_values_df)) * 100\n",
    "    \n",
    "    predicted_labels = np.where(classifiable_df['probabilities_1'] > threshold, 1, 0)\n",
    "\n",
    "    accuracy = accuracy_score(classifiable_df['actual_values'], predicted_labels) * 100\n",
    "    precision = precision_score(classifiable_df['actual_values'], predicted_labels) * 100\n",
    "    recall = recall_score(classifiable_df['actual_values'], predicted_labels) * 100\n",
    "    f1 = f1_score(classifiable_df['actual_values'], predicted_labels) * 100\n",
    "\n",
    "    results.append({\n",
    "        'threshold': threshold,\n",
    "        'classifiable': percentage_classifiable,\n",
    "        'accuracy': accuracy,\n",
    "        'precision': precision,\n",
    "        'recall': recall,\n",
    "        'f1': f1\n",
    "    })\n",
    "\n",
    "results_df = pd.DataFrame(results)\n",
    "\n",
    "print(results_df.head(50))"
   ]
  }
 ],
 "metadata": {
  "kernelspec": {
   "display_name": "venv",
   "language": "python",
   "name": "python3"
  },
  "language_info": {
   "codemirror_mode": {
    "name": "ipython",
    "version": 3
   },
   "file_extension": ".py",
   "mimetype": "text/x-python",
   "name": "python",
   "nbconvert_exporter": "python",
   "pygments_lexer": "ipython3",
   "version": "3.12.2"
  }
 },
 "nbformat": 4,
 "nbformat_minor": 2
}
