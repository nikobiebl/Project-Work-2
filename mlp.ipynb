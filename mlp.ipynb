{
 "cells": [
  {
   "cell_type": "markdown",
   "metadata": {},
   "source": [
    "## Imports"
   ]
  },
  {
   "cell_type": "code",
   "execution_count": 25,
   "metadata": {},
   "outputs": [],
   "source": [
    "# imports\n",
    "import pandas as pd\n",
    "import numpy as np\n",
    "import matplotlib.pyplot as plt\n",
    "import seaborn as sns\n",
    "from sklearn.model_selection import train_test_split\n",
    "from sklearn.metrics import (\n",
    "    accuracy_score, f1_score, precision_score, recall_score,\n",
    "    confusion_matrix, ConfusionMatrixDisplay, classification_report\n",
    ")\n",
    "from sklearn.neural_network import MLPClassifier\n",
    "from sklearn.feature_extraction.text import TfidfVectorizer\n",
    "from sklearn.model_selection import GridSearchCV"
   ]
  },
  {
   "cell_type": "markdown",
   "metadata": {},
   "source": [
    "## Define Functions"
   ]
  },
  {
   "cell_type": "code",
   "execution_count": 26,
   "metadata": {},
   "outputs": [],
   "source": [
    "# define evaluation function\n",
    "def evaluate(y_pred):\n",
    "    accuracy = accuracy_score(y_test, y_pred)\n",
    "    f1 = f1_score(y_test, y_pred)\n",
    "    precision = precision_score(y_test, y_pred)\n",
    "    recall = recall_score(y_test, y_pred)\n",
    "\n",
    "    conf_mat = confusion_matrix(y_test, y_pred)\n",
    "    disp = ConfusionMatrixDisplay(confusion_matrix=conf_mat)\n",
    "    \n",
    "    print(\"Accuracy:    \", accuracy)\n",
    "    print(\"F1-Score:    \", f1)\n",
    "    print(\"Precision:   \", precision)\n",
    "    print(\"Recall:      \", recall)\n",
    "    print()\n",
    "    print(classification_report(y_test, y_pred))\n",
    "    print()\n",
    "\n",
    "    disp.plot()"
   ]
  },
  {
   "cell_type": "markdown",
   "metadata": {},
   "source": [
    "## Load .csv into DF"
   ]
  },
  {
   "cell_type": "code",
   "execution_count": 27,
   "metadata": {},
   "outputs": [],
   "source": [
    "# load data into dataframe\n",
    "df = pd.read_csv(\"phishing_email_projectthesis.csv\") "
   ]
  },
  {
   "cell_type": "markdown",
   "metadata": {},
   "source": [
    "## Prepare Data"
   ]
  },
  {
   "cell_type": "code",
   "execution_count": 28,
   "metadata": {},
   "outputs": [],
   "source": [
    "# rename columns\n",
    "df = df.rename(columns={'text_combined': 'content'}).rename(columns={'label': 'target'}) "
   ]
  },
  {
   "cell_type": "code",
   "execution_count": 29,
   "metadata": {},
   "outputs": [],
   "source": [
    "# drop duplicates but keep the first\n",
    "df = df.drop_duplicates(keep='first') "
   ]
  },
  {
   "cell_type": "code",
   "execution_count": 30,
   "metadata": {},
   "outputs": [
    {
     "name": "stderr",
     "output_type": "stream",
     "text": [
      "/var/folders/gr/nkq2fp191y1_3wywjp14_sz00000gn/T/ipykernel_1722/842751370.py:2: DeprecationWarning: DataFrameGroupBy.apply operated on the grouping columns. This behavior is deprecated, and in a future version of pandas the grouping columns will be excluded from the operation. Either pass `include_groups=False` to exclude the groupings or explicitly select the grouping columns after groupby to silence this warning.\n",
      "  df = df.groupby('target').apply(lambda x: x.sample(39233, replace=True, random_state=42)).reset_index(drop=True)\n"
     ]
    }
   ],
   "source": [
    "# randomized undersampling\n",
    "df = df.groupby('target').apply(lambda x: x.sample(39233, replace=True, random_state=42)).reset_index(drop=True)"
   ]
  },
  {
   "cell_type": "markdown",
   "metadata": {},
   "source": [
    "## Split Data into Training and Test 80-20"
   ]
  },
  {
   "cell_type": "code",
   "execution_count": 31,
   "metadata": {},
   "outputs": [
    {
     "name": "stdout",
     "output_type": "stream",
     "text": [
      "Shape of X_train: (62772,)\n",
      "Shape of X_test: (15694,)\n",
      "Shape of y_train: (62772,)\n",
      "Shape of y_test: (15694,)\n"
     ]
    }
   ],
   "source": [
    "# define X and Y\n",
    "X = df['content']\n",
    "y = df['target']\n",
    "\n",
    "# split data \n",
    "X_train, X_test, y_train, y_test = train_test_split(X, y, test_size=0.2, random_state=42)\n",
    "\n",
    "# check the shape\n",
    "print(\"Shape of X_train:\", X_train.shape)\n",
    "print(\"Shape of X_test:\", X_test.shape)\n",
    "print(\"Shape of y_train:\", y_train.shape)\n",
    "print(\"Shape of y_test:\", y_test.shape)"
   ]
  },
  {
   "cell_type": "markdown",
   "metadata": {},
   "source": [
    "## Vektorize with TF-IDF"
   ]
  },
  {
   "cell_type": "code",
   "execution_count": 32,
   "metadata": {},
   "outputs": [],
   "source": [
    "# creating vectorizer object with standart parameters\n",
    "vectorizer = TfidfVectorizer()\n",
    "\n",
    "# fit on and tranform training data\n",
    "X_train_tfidf = vectorizer.fit_transform(X_train)\n",
    "\n",
    "# transform test data \n",
    "X_test_tfidf = vectorizer.transform(X_test)"
   ]
  },
  {
   "cell_type": "markdown",
   "metadata": {},
   "source": [
    "## Multi Layer Perceptron"
   ]
  },
  {
   "cell_type": "code",
   "execution_count": 33,
   "metadata": {},
   "outputs": [
    {
     "name": "stderr",
     "output_type": "stream",
     "text": [
      "/Users/nikobiebl/.local/share/virtualenvs/Project-Thesis-PGQKRxl5/lib/python3.12/site-packages/sklearn/neural_network/_multilayer_perceptron.py:690: ConvergenceWarning: Stochastic Optimizer: Maximum iterations (1) reached and the optimization hasn't converged yet.\n",
      "  warnings.warn(\n"
     ]
    },
    {
     "name": "stdout",
     "output_type": "stream",
     "text": [
      "Accuracy:     0.9931183891933223\n",
      "F1-Score:     0.9931122448979591\n",
      "Precision:    0.9915944982170147\n",
      "Recall:       0.9946346448645886\n",
      "\n",
      "              precision    recall  f1-score   support\n",
      "\n",
      "           0       0.99      0.99      0.99      7866\n",
      "           1       0.99      0.99      0.99      7828\n",
      "\n",
      "    accuracy                           0.99     15694\n",
      "   macro avg       0.99      0.99      0.99     15694\n",
      "weighted avg       0.99      0.99      0.99     15694\n",
      "\n",
      "\n"
     ]
    },
    {
     "data": {
      "image/png": "[encoded data removed]",
      "text/plain": [
       "<Figure size 640x480 with 2 Axes>"
      ]
     },
     "metadata": {},
     "output_type": "display_data"
    }
   ],
   "source": [
    "# create classifier object\n",
    "mlp_tfidf_classifier = MLPClassifier(max_iter=1,random_state=42)\n",
    "\n",
    "# train classifier\n",
    "mlp_tfidf_classifier.fit(X_train_tfidf, y_train)\n",
    "\n",
    "# test classifier\n",
    "mlp_tfidf_predictions = mlp_tfidf_classifier.predict(X_test_tfidf)\n",
    "\n",
    "# evaluate\n",
    "evaluate(mlp_tfidf_predictions)"
   ]
  },
  {
   "cell_type": "code",
   "execution_count": 34,
   "metadata": {},
   "outputs": [
    {
     "name": "stderr",
     "output_type": "stream",
     "text": [
      "/Users/nikobiebl/.local/share/virtualenvs/Project-Thesis-PGQKRxl5/lib/python3.12/site-packages/sklearn/neural_network/_multilayer_perceptron.py:690: ConvergenceWarning: Stochastic Optimizer: Maximum iterations (2) reached and the optimization hasn't converged yet.\n",
      "  warnings.warn(\n"
     ]
    },
    {
     "name": "stdout",
     "output_type": "stream",
     "text": [
      "Accuracy:     0.9954122594622149\n",
      "F1-Score:     0.9954028859660324\n",
      "Precision:    0.9950217002808271\n",
      "Recall:       0.9957843638221768\n",
      "\n",
      "              precision    recall  f1-score   support\n",
      "\n",
      "           0       1.00      1.00      1.00      7866\n",
      "           1       1.00      1.00      1.00      7828\n",
      "\n",
      "    accuracy                           1.00     15694\n",
      "   macro avg       1.00      1.00      1.00     15694\n",
      "weighted avg       1.00      1.00      1.00     15694\n",
      "\n",
      "\n"
     ]
    },
    {
     "data": {
      "image/png": "[encoded data removed]",
      "text/plain": [
       "<Figure size 640x480 with 2 Axes>"
      ]
     },
     "metadata": {},
     "output_type": "display_data"
    }
   ],
   "source": [
    "# create classifier object\n",
    "mlp_tfidf_classifier = MLPClassifier(max_iter=2,random_state=42)\n",
    "\n",
    "# train classifier\n",
    "mlp_tfidf_classifier.fit(X_train_tfidf, y_train)\n",
    "\n",
    "# test classifier\n",
    "mlp_tfidf_predictions = mlp_tfidf_classifier.predict(X_test_tfidf)\n",
    "\n",
    "# evaluate\n",
    "evaluate(mlp_tfidf_predictions)"
   ]
  },
  {
   "cell_type": "code",
   "execution_count": 35,
   "metadata": {},
   "outputs": [],
   "source": [
    "# create classifier object\n",
    "mlp_tfidf_classifier = MLPClassifier(max_iter=3,random_state=42)\n",
    "\n",
    "# train classifier\n",
    "mlp_tfidf_classifier.fit(X_train_tfidf, y_train)\n",
    "\n",
    "# test classifier\n",
    "mlp_tfidf_predictions = mlp_tfidf_classifier.predict(X_test_tfidf)\n",
    "\n",
    "# evaluate\n",
    "evaluate(mlp_tfidf_predictions)"
   ]
  },
  {
   "cell_type": "code",
   "execution_count": null,
   "metadata": {},
   "outputs": [],
   "source": [
    "# create classifier object\n",
    "mlp_tfidf_classifier = MLPClassifier(max_iter=4,random_state=42)\n",
    "\n",
    "# train classifier\n",
    "mlp_tfidf_classifier.fit(X_train_tfidf, y_train)\n",
    "\n",
    "# test classifier\n",
    "mlp_tfidf_predictions = mlp_tfidf_classifier.predict(X_test_tfidf)\n",
    "\n",
    "# evaluate\n",
    "evaluate(mlp_tfidf_predictions)"
   ]
  },
  {
   "cell_type": "code",
   "execution_count": null,
   "metadata": {},
   "outputs": [],
   "source": [
    "# create classifier object\n",
    "mlp_tfidf_classifier = MLPClassifier(max_iter=5,random_state=42)\n",
    "\n",
    "# train classifier\n",
    "mlp_tfidf_classifier.fit(X_train_tfidf, y_train)\n",
    "\n",
    "# test classifier\n",
    "mlp_tfidf_predictions = mlp_tfidf_classifier.predict(X_test_tfidf)\n",
    "\n",
    "# evaluate\n",
    "evaluate(mlp_tfidf_predictions)"
   ]
  },
  {
   "cell_type": "code",
   "execution_count": null,
   "metadata": {},
   "outputs": [],
   "source": [
    "# create classifier object\n",
    "mlp_tfidf_classifier = MLPClassifier(max_iter=6,random_state=42)\n",
    "\n",
    "# train classifier\n",
    "mlp_tfidf_classifier.fit(X_train_tfidf, y_train)\n",
    "\n",
    "# test classifier\n",
    "mlp_tfidf_predictions = mlp_tfidf_classifier.predict(X_test_tfidf)\n",
    "\n",
    "# evaluate\n",
    "evaluate(mlp_tfidf_predictions)"
   ]
  },
  {
   "cell_type": "code",
   "execution_count": null,
   "metadata": {},
   "outputs": [],
   "source": [
    "# create classifier object\n",
    "mlp_tfidf_classifier = MLPClassifier(max_iter=7,random_state=42)\n",
    "\n",
    "# train classifier\n",
    "mlp_tfidf_classifier.fit(X_train_tfidf, y_train)\n",
    "\n",
    "# test classifier\n",
    "mlp_tfidf_predictions = mlp_tfidf_classifier.predict(X_test_tfidf)\n",
    "\n",
    "# evaluate\n",
    "evaluate(mlp_tfidf_predictions)"
   ]
  },
  {
   "cell_type": "code",
   "execution_count": null,
   "metadata": {},
   "outputs": [],
   "source": [
    "# create classifier object\n",
    "mlp_tfidf_classifier = MLPClassifier(max_iter=8,random_state=42)\n",
    "\n",
    "# train classifier\n",
    "mlp_tfidf_classifier.fit(X_train_tfidf, y_train)\n",
    "\n",
    "# test classifier\n",
    "mlp_tfidf_predictions = mlp_tfidf_classifier.predict(X_test_tfidf)\n",
    "\n",
    "# evaluate\n",
    "evaluate(mlp_tfidf_predictions)"
   ]
  },
  {
   "cell_type": "code",
   "execution_count": null,
   "metadata": {},
   "outputs": [],
   "source": [
    "# create classifier object\n",
    "mlp_tfidf_classifier = MLPClassifier(max_iter=9,random_state=42)\n",
    "\n",
    "# train classifier\n",
    "mlp_tfidf_classifier.fit(X_train_tfidf, y_train)\n",
    "\n",
    "# test classifier\n",
    "mlp_tfidf_predictions = mlp_tfidf_classifier.predict(X_test_tfidf)\n",
    "\n",
    "# evaluate\n",
    "evaluate(mlp_tfidf_predictions)"
   ]
  },
  {
   "cell_type": "code",
   "execution_count": null,
   "metadata": {},
   "outputs": [],
   "source": [
    "# create classifier object\n",
    "mlp_tfidf_classifier = MLPClassifier(max_iter=10,random_state=42)\n",
    "\n",
    "# train classifier\n",
    "mlp_tfidf_classifier.fit(X_train_tfidf, y_train)\n",
    "\n",
    "# test classifier\n",
    "mlp_tfidf_predictions = mlp_tfidf_classifier.predict(X_test_tfidf)\n",
    "\n",
    "# evaluate\n",
    "evaluate(mlp_tfidf_predictions)"
   ]
  },
  {
   "cell_type": "markdown",
   "metadata": {},
   "source": [
    "## Creating Treshold Evaluation"
   ]
  },
  {
   "cell_type": "code",
   "execution_count": 22,
   "metadata": {},
   "outputs": [
    {
     "name": "stdout",
     "output_type": "stream",
     "text": [
      "(15694, 3)\n",
      "       probabilities_0  probabilities_1  actual_values\n",
      "30578         0.999991         0.000009              0\n",
      "75285         0.000082         0.999918              1\n",
      "47368         0.001234         0.998766              1\n",
      "23969         0.999985         0.000015              0\n",
      "53099         0.000760         0.999240              1\n",
      "14076         0.998719         0.001281              0\n",
      "20565         0.999082         0.000918              0\n",
      "62974         0.001735         0.998265              1\n",
      "55285         0.000058         0.999942              1\n",
      "61165         0.000238         0.999762              1\n",
      "49031         0.000507         0.999493              1\n",
      "65834         0.000192         0.999808              1\n",
      "64319         0.000378         0.999622              1\n",
      "63695         0.000014         0.999986              1\n",
      "77050         0.000142         0.999858              1\n",
      "15197         0.999721         0.000279              0\n",
      "9908          0.999943         0.000057              0\n",
      "25013         0.999961         0.000039              0\n",
      "71658         0.000325         0.999675              1\n",
      "70520         0.000333         0.999667              1\n"
     ]
    }
   ],
   "source": [
    "probabilities = mlp_tfidf_classifier.predict_proba(X_test_tfidf)\n",
    "\n",
    "probabilities_0 = probabilities[:, 0]\n",
    "probabilities_1 = probabilities[:, 1]\n",
    "\n",
    "actual_values = y_test\n",
    "\n",
    "probabilities_and_values_df = pd.DataFrame({\n",
    "    'probabilities_0': probabilities_0,\n",
    "    'probabilities_1': probabilities_1,\n",
    "    'actual_values': actual_values\n",
    "})\n",
    "\n",
    "print(probabilities_and_values_df.shape)\n",
    "print(probabilities_and_values_df.head(20))"
   ]
  },
  {
   "cell_type": "code",
   "execution_count": 23,
   "metadata": {},
   "outputs": [
    {
     "name": "stdout",
     "output_type": "stream",
     "text": [
      "(20, 3)\n",
      "       probabilities_0  probabilities_1  actual_values\n",
      "18138         0.404308         0.595692              0\n",
      "68458         0.505537         0.494463              1\n",
      "7251          0.513621         0.486379              0\n",
      "68747         0.447575         0.552425              1\n",
      "23754         0.548022         0.451978              0\n",
      "54503         0.474218         0.525782              1\n",
      "67647         0.569743         0.430257              1\n",
      "53020         0.454603         0.545397              1\n",
      "20964         0.535459         0.464541              0\n",
      "10684         0.431510         0.568490              0\n",
      "62644         0.527443         0.472557              1\n",
      "55116         0.402128         0.597872              1\n",
      "32906         0.466348         0.533652              0\n",
      "23131         0.497705         0.502295              0\n",
      "55352         0.596028         0.403972              1\n",
      "67921         0.594307         0.405693              1\n",
      "54001         0.472690         0.527310              1\n",
      "30213         0.521746         0.478254              0\n",
      "27859         0.548022         0.451978              0\n",
      "41694         0.545365         0.454635              1\n"
     ]
    }
   ],
   "source": [
    "under_60_percent_df = probabilities_and_values_df[(probabilities_and_values_df['probabilities_0'] < 0.6) & (probabilities_and_values_df['probabilities_1'] < 0.60)]\n",
    "\n",
    "print(under_60_percent_df.shape)\n",
    "print(under_60_percent_df.head(22))"
   ]
  },
  {
   "cell_type": "code",
   "execution_count": 24,
   "metadata": {},
   "outputs": [
    {
     "name": "stdout",
     "output_type": "stream",
     "text": [
      "    threshold  classifiable    accuracy   precision      recall          f1\n",
      "0        0.50    100.000000   99.598573   99.591263   99.603986   99.597624\n",
      "1        0.51     99.987256   99.611267   99.603986   99.616711   99.610348\n",
      "2        0.52     99.980884   99.611242   99.603986   99.616711   99.610348\n",
      "3        0.53     99.955397   99.617518   99.603884   99.629346   99.616613\n",
      "4        0.54     99.942653   99.623844   99.616613   99.629346   99.622979\n",
      "5        0.55     99.917166   99.630126   99.616564   99.642035   99.629298\n",
      "6        0.56     99.910794   99.630102   99.616515   99.641990   99.629251\n",
      "7        0.57     99.898050   99.642812   99.629251   99.654731   99.641990\n",
      "8        0.58     99.898050   99.642812   99.629251   99.654731   99.641990\n",
      "9        0.59     99.898050   99.642812   99.629251   99.654731   99.641990\n",
      "10       0.60     99.872563   99.661860   99.641944   99.680184   99.661060\n",
      "11       0.61     99.827960   99.680858   99.654643   99.705657   99.680143\n",
      "12       0.62     99.808844   99.680797   99.654511   99.705543   99.680020\n",
      "13       0.63     99.796100   99.680756   99.654422   99.705468   99.679939\n",
      "14       0.64     99.757869   99.699796   99.692702   99.705468   99.699084\n",
      "15       0.65     99.726010   99.725257   99.718202   99.730976   99.724588\n",
      "16       0.66     99.713266   99.725222   99.718202   99.730976   99.724588\n",
      "17       0.67     99.687779   99.737935   99.718166   99.756504   99.737331\n",
      "18       0.68     99.662291   99.744262   99.718057   99.769201   99.743623\n",
      "19       0.69     99.655919   99.750639   99.730838   99.769201   99.750016\n",
      "20       0.70     99.611316   99.756924   99.730735   99.781911   99.756317\n",
      "21       0.71     99.598573   99.763291   99.743491   99.781884   99.762684\n",
      "22       0.72     99.585829   99.763261   99.743458   99.781856   99.762653\n",
      "23       0.73     99.560342   99.769600   99.756223   99.781828   99.769023\n",
      "24       0.74     99.515738   99.782302   99.768935   99.794556   99.781743\n",
      "25       0.75     99.490251   99.782247   99.768875   99.794503   99.781687\n",
      "26       0.76     99.483879   99.782233   99.768846   99.794477   99.781659\n",
      "27       0.77     99.464764   99.782191   99.768846   99.794477   99.781659\n",
      "28       0.78     99.432904   99.794938   99.781603   99.807247   99.794424\n",
      "29       0.79     99.388301   99.807668   99.781575   99.832883   99.807223\n",
      "30       0.80     99.343698   99.813995   99.794344   99.832840   99.813589\n",
      "31       0.81     99.305467   99.833173   99.807124   99.858484   99.832797\n",
      "32       0.82     99.273608   99.852375   99.807124   99.897040   99.852061\n",
      "33       0.83     99.260864   99.852356   99.807099   99.897027   99.852042\n",
      "34       0.84     99.171658   99.877923   99.832604   99.922670   99.877617\n",
      "35       0.85     99.107939   99.884274   99.832517   99.935517   99.883991\n",
      "36       0.86     99.050593   99.884207   99.832453   99.935492   99.883946\n",
      "37       0.87     98.980502   99.897000   99.845201   99.948347   99.896748\n",
      "38       0.88     98.846693   99.903307   99.857899   99.948280   99.903069\n",
      "39       0.89     98.776603   99.909689   99.870701   99.948240   99.909455\n",
      "40       0.90     98.700140   99.916075   99.883510   99.948193   99.915841\n",
      "41       0.91     98.598190   99.922451   99.883389   99.961100   99.922229\n",
      "42       0.92     98.508984   99.935317   99.909197   99.961064   99.935124\n",
      "43       0.93     98.330572   99.941680   99.922027   99.960998   99.941509\n",
      "44       0.94     98.177648   99.941589   99.921906   99.960938   99.941418\n",
      "45       0.95     97.986492   99.941475   99.921722   99.960846   99.941280\n",
      "46       0.96     97.674270   99.941288   99.921456   99.960712   99.941080\n",
      "47       0.97     97.024341   99.954029   99.947320   99.960485   99.953902\n",
      "48       0.98     95.845546   99.960112   99.946709   99.973348   99.960027\n",
      "49       0.99     93.188480  100.000000  100.000000  100.000000  100.000000\n"
     ]
    }
   ],
   "source": [
    "thresholds = np.arange(0.5, 1.0, 0.01)\n",
    "\n",
    "results = []\n",
    "\n",
    "for threshold in thresholds:\n",
    "\n",
    "    classifiable_df = probabilities_and_values_df[(probabilities_and_values_df['probabilities_0'] > threshold) | (probabilities_and_values_df['probabilities_1'] > threshold)]\n",
    "    \n",
    "    percentage_classifiable = (len(classifiable_df) / len(probabilities_and_values_df)) * 100\n",
    "    \n",
    "    predicted_labels = np.where(classifiable_df['probabilities_1'] > threshold, 1, 0)\n",
    "\n",
    "    accuracy = accuracy_score(classifiable_df['actual_values'], predicted_labels) * 100\n",
    "    precision = precision_score(classifiable_df['actual_values'], predicted_labels) * 100\n",
    "    recall = recall_score(classifiable_df['actual_values'], predicted_labels) * 100\n",
    "    f1 = f1_score(classifiable_df['actual_values'], predicted_labels) * 100\n",
    "\n",
    "    results.append({\n",
    "        'threshold': threshold,\n",
    "        'classifiable': percentage_classifiable,\n",
    "        'accuracy': accuracy,\n",
    "        'precision': precision,\n",
    "        'recall': recall,\n",
    "        'f1': f1\n",
    "    })\n",
    "\n",
    "results_df = pd.DataFrame(results)\n",
    "\n",
    "print(results_df.head(50))"
   ]
  }
 ],
 "metadata": {
  "kernelspec": {
   "display_name": "venv",
   "language": "python",
   "name": "python3"
  },
  "language_info": {
   "codemirror_mode": {
    "name": "ipython",
    "version": 3
   },
   "file_extension": ".py",
   "mimetype": "text/x-python",
   "name": "python",
   "nbconvert_exporter": "python",
   "pygments_lexer": "ipython3",
   "version": "3.12.2"
  }
 },
 "nbformat": 4,
 "nbformat_minor": 2
}
