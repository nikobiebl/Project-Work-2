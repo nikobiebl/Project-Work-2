{
 "cells": [
  {
   "cell_type": "markdown",
   "metadata": {},
   "source": [
    "## Imports"
   ]
  },
  {
   "cell_type": "code",
   "execution_count": 79,
   "metadata": {},
   "outputs": [],
   "source": [
    "# imports\n",
    "import pandas as pd\n",
    "import numpy as np\n",
    "import matplotlib.pyplot as plt\n",
    "import seaborn as sns\n",
    "from sklearn.model_selection import train_test_split\n",
    "from sklearn.dummy import DummyClassifier\n",
    "from sklearn.metrics import (\n",
    "    accuracy_score, f1_score, precision_score, recall_score,\n",
    "    confusion_matrix, ConfusionMatrixDisplay, classification_report\n",
    ")\n",
    "from sklearn.svm import SVC\n",
    "from sklearn.ensemble import RandomForestClassifier\n",
    "from sklearn.naive_bayes import GaussianNB\n",
    "from sklearn.linear_model import LogisticRegression\n",
    "from sklearn.feature_extraction.text import TfidfVectorizer"
   ]
  },
  {
   "cell_type": "markdown",
   "metadata": {},
   "source": [
    "## Define Functions"
   ]
  },
  {
   "cell_type": "code",
   "execution_count": 52,
   "metadata": {},
   "outputs": [],
   "source": [
    "# define evaluation function\n",
    "def evaluate(y_pred):\n",
    "    accuracy = accuracy_score(y_test, y_pred)\n",
    "    f1 = f1_score(y_test, y_pred)\n",
    "    precision = precision_score(y_test, y_pred)\n",
    "    recall = recall_score(y_test, y_pred)\n",
    "\n",
    "    conf_mat = confusion_matrix(y_test, y_pred)\n",
    "    disp = ConfusionMatrixDisplay(confusion_matrix=conf_mat)\n",
    "    \n",
    "    print(\"Accuracy:    \", accuracy)\n",
    "    print(\"F1-Score:    \", f1)\n",
    "    print(\"Precision:   \", precision)\n",
    "    print(\"Recall:      \", recall)\n",
    "    print()\n",
    "    print(classification_report(y_test, y_pred))\n",
    "    print()\n",
    "\n",
    "    disp.plot()"
   ]
  },
  {
   "cell_type": "markdown",
   "metadata": {},
   "source": [
    "## Load .csv into df\n"
   ]
  },
  {
   "cell_type": "code",
   "execution_count": 53,
   "metadata": {},
   "outputs": [],
   "source": [
    "# load data into dataframe\n",
    "df = pd.read_csv(\"phishing_email_projectthesis.csv\") "
   ]
  },
  {
   "cell_type": "markdown",
   "metadata": {},
   "source": [
    "## View and Prepare Data"
   ]
  },
  {
   "cell_type": "code",
   "execution_count": 54,
   "metadata": {},
   "outputs": [],
   "source": [
    "# rename columns\n",
    "df = df.rename(columns={'text_combined': 'content'}).rename(columns={'label': 'target'}) "
   ]
  },
  {
   "cell_type": "code",
   "execution_count": 55,
   "metadata": {},
   "outputs": [
    {
     "data": {
      "text/plain": [
       "(82486, 2)"
      ]
     },
     "execution_count": 55,
     "metadata": {},
     "output_type": "execute_result"
    }
   ],
   "source": [
    "df.shape "
   ]
  },
  {
   "cell_type": "code",
   "execution_count": 56,
   "metadata": {},
   "outputs": [
    {
     "name": "stdout",
     "output_type": "stream",
     "text": [
      "                                                 content  target\n",
      "17     noms actual vols 3 26 01 eileen gas control re...       0\n",
      "18     noms actual vols 3 26 01 eileen gas control re...       0\n",
      "22     enron hpl actuals march 28 2001 estimated actu...       0\n",
      "23     enron hpl actuals march 28 2001 estimated actu...       0\n",
      "27     nom vols 3 24 thru 3 26 01 agree eileen ponton...       0\n",
      "...                                                  ...     ...\n",
      "80219  nan attn may conceren dear one christ good day...       1\n",
      "80230  mrwilson ogodi wilson_ogodi0232000yahoocojp 新し...       1\n",
      "80231  mrwilson ogodi wilson_ogodi0232000yahoocojp 新し...       1\n",
      "80808  dr ahmed hassan ahassan1696gmailcom kind atten...       1\n",
      "80809  dr ahmed hassan ahassan1696gmailcom kind atten...       1\n",
      "\n",
      "[815 rows x 2 columns]\n"
     ]
    }
   ],
   "source": [
    "# show all duplicated rows\n",
    "print(df[df.duplicated(keep=False)]) "
   ]
  },
  {
   "cell_type": "code",
   "execution_count": 57,
   "metadata": {},
   "outputs": [],
   "source": [
    "# drop duplicates but keep the first\n",
    "df = df.drop_duplicates(keep='first') "
   ]
  },
  {
   "cell_type": "code",
   "execution_count": 58,
   "metadata": {},
   "outputs": [
    {
     "data": {
      "text/plain": [
       "(82078, 2)"
      ]
     },
     "execution_count": 58,
     "metadata": {},
     "output_type": "execute_result"
    }
   ],
   "source": [
    "df.shape"
   ]
  },
  {
   "cell_type": "code",
   "execution_count": 59,
   "metadata": {},
   "outputs": [
    {
     "name": "stdout",
     "output_type": "stream",
     "text": [
      "<class 'pandas.core.frame.DataFrame'>\n",
      "Index: 82078 entries, 0 to 82485\n",
      "Data columns (total 2 columns):\n",
      " #   Column   Non-Null Count  Dtype \n",
      "---  ------   --------------  ----- \n",
      " 0   content  82078 non-null  object\n",
      " 1   target   82078 non-null  int64 \n",
      "dtypes: int64(1), object(1)\n",
      "memory usage: 1.9+ MB\n"
     ]
    }
   ],
   "source": [
    "# show data types and number of rows\n",
    "df.info() "
   ]
  },
  {
   "cell_type": "code",
   "execution_count": 60,
   "metadata": {},
   "outputs": [
    {
     "data": {
      "text/html": [
       "<div>\n",
       "<style scoped>\n",
       "    .dataframe tbody tr th:only-of-type {\n",
       "        vertical-align: middle;\n",
       "    }\n",
       "\n",
       "    .dataframe tbody tr th {\n",
       "        vertical-align: top;\n",
       "    }\n",
       "\n",
       "    .dataframe thead th {\n",
       "        text-align: right;\n",
       "    }\n",
       "</style>\n",
       "<table border=\"1\" class=\"dataframe\">\n",
       "  <thead>\n",
       "    <tr style=\"text-align: right;\">\n",
       "      <th></th>\n",
       "      <th>content</th>\n",
       "      <th>target</th>\n",
       "    </tr>\n",
       "  </thead>\n",
       "  <tbody>\n",
       "    <tr>\n",
       "      <th>0</th>\n",
       "      <td>hpl nom may 25 2001 see attached file hplno 52...</td>\n",
       "      <td>0</td>\n",
       "    </tr>\n",
       "    <tr>\n",
       "      <th>1</th>\n",
       "      <td>nom actual vols 24 th forwarded sabrae zajac h...</td>\n",
       "      <td>0</td>\n",
       "    </tr>\n",
       "    <tr>\n",
       "      <th>2</th>\n",
       "      <td>enron actuals march 30 april 1 201 estimated a...</td>\n",
       "      <td>0</td>\n",
       "    </tr>\n",
       "    <tr>\n",
       "      <th>3</th>\n",
       "      <td>hpl nom may 30 2001 see attached file hplno 53...</td>\n",
       "      <td>0</td>\n",
       "    </tr>\n",
       "    <tr>\n",
       "      <th>4</th>\n",
       "      <td>hpl nom june 1 2001 see attached file hplno 60...</td>\n",
       "      <td>0</td>\n",
       "    </tr>\n",
       "    <tr>\n",
       "      <th>5</th>\n",
       "      <td>hpl nom may 31 2001 see attached file hplno 53...</td>\n",
       "      <td>0</td>\n",
       "    </tr>\n",
       "    <tr>\n",
       "      <th>6</th>\n",
       "      <td>9760 tried get fancy address came back forward...</td>\n",
       "      <td>0</td>\n",
       "    </tr>\n",
       "    <tr>\n",
       "      <th>7</th>\n",
       "      <td>hpl noms february 15 2000 see attached file hp...</td>\n",
       "      <td>0</td>\n",
       "    </tr>\n",
       "    <tr>\n",
       "      <th>8</th>\n",
       "      <td>fw pooling contract template original message ...</td>\n",
       "      <td>0</td>\n",
       "    </tr>\n",
       "    <tr>\n",
       "      <th>9</th>\n",
       "      <td>hpl nom march 28 2000 see attached file hplo 3...</td>\n",
       "      <td>0</td>\n",
       "    </tr>\n",
       "    <tr>\n",
       "      <th>10</th>\n",
       "      <td>fw txu lone star pipeline standard pooling agr...</td>\n",
       "      <td>0</td>\n",
       "    </tr>\n",
       "    <tr>\n",
       "      <th>11</th>\n",
       "      <td>enron hpl nom december 1 2000 see attached fil...</td>\n",
       "      <td>0</td>\n",
       "    </tr>\n",
       "    <tr>\n",
       "      <th>12</th>\n",
       "      <td>hpl nom may 26 29 2001 see attached file hplno...</td>\n",
       "      <td>0</td>\n",
       "    </tr>\n",
       "    <tr>\n",
       "      <th>13</th>\n",
       "      <td>enron hpl actuals november 13 2000 teco tap 12...</td>\n",
       "      <td>0</td>\n",
       "    </tr>\n",
       "    <tr>\n",
       "      <th>14</th>\n",
       "      <td>txu noms 10 14 16 00 attached please find txu ...</td>\n",
       "      <td>0</td>\n",
       "    </tr>\n",
       "    <tr>\n",
       "      <th>15</th>\n",
       "      <td>hpl nom april 2001 see attached file hplno 410...</td>\n",
       "      <td>0</td>\n",
       "    </tr>\n",
       "    <tr>\n",
       "      <th>16</th>\n",
       "      <td>spoke person confirms pg e side said brian agr...</td>\n",
       "      <td>0</td>\n",
       "    </tr>\n",
       "    <tr>\n",
       "      <th>17</th>\n",
       "      <td>noms actual vols 3 26 01 eileen gas control re...</td>\n",
       "      <td>0</td>\n",
       "    </tr>\n",
       "    <tr>\n",
       "      <th>19</th>\n",
       "      <td>hpl nom march 27 2001 see attached file hplno ...</td>\n",
       "      <td>0</td>\n",
       "    </tr>\n",
       "    <tr>\n",
       "      <th>20</th>\n",
       "      <td>estimated actuals april 5 2001 estimated actua...</td>\n",
       "      <td>0</td>\n",
       "    </tr>\n",
       "  </tbody>\n",
       "</table>\n",
       "</div>"
      ],
      "text/plain": [
       "                                              content  target\n",
       "0   hpl nom may 25 2001 see attached file hplno 52...       0\n",
       "1   nom actual vols 24 th forwarded sabrae zajac h...       0\n",
       "2   enron actuals march 30 april 1 201 estimated a...       0\n",
       "3   hpl nom may 30 2001 see attached file hplno 53...       0\n",
       "4   hpl nom june 1 2001 see attached file hplno 60...       0\n",
       "5   hpl nom may 31 2001 see attached file hplno 53...       0\n",
       "6   9760 tried get fancy address came back forward...       0\n",
       "7   hpl noms february 15 2000 see attached file hp...       0\n",
       "8   fw pooling contract template original message ...       0\n",
       "9   hpl nom march 28 2000 see attached file hplo 3...       0\n",
       "10  fw txu lone star pipeline standard pooling agr...       0\n",
       "11  enron hpl nom december 1 2000 see attached fil...       0\n",
       "12  hpl nom may 26 29 2001 see attached file hplno...       0\n",
       "13  enron hpl actuals november 13 2000 teco tap 12...       0\n",
       "14  txu noms 10 14 16 00 attached please find txu ...       0\n",
       "15  hpl nom april 2001 see attached file hplno 410...       0\n",
       "16  spoke person confirms pg e side said brian agr...       0\n",
       "17  noms actual vols 3 26 01 eileen gas control re...       0\n",
       "19  hpl nom march 27 2001 see attached file hplno ...       0\n",
       "20  estimated actuals april 5 2001 estimated actua...       0"
      ]
     },
     "execution_count": 60,
     "metadata": {},
     "output_type": "execute_result"
    }
   ],
   "source": [
    "# show the first 20 rows\n",
    "df.head(20) "
   ]
  },
  {
   "cell_type": "code",
   "execution_count": 61,
   "metadata": {},
   "outputs": [
    {
     "data": {
      "text/plain": [
       "content    0\n",
       "target     0\n",
       "dtype: int64"
      ]
     },
     "execution_count": 61,
     "metadata": {},
     "output_type": "execute_result"
    }
   ],
   "source": [
    "# check for missing values\n",
    "df.isnull().sum() "
   ]
  },
  {
   "cell_type": "code",
   "execution_count": 62,
   "metadata": {},
   "outputs": [
    {
     "data": {
      "text/plain": [
       "np.float64(1290.495869782402)"
      ]
     },
     "execution_count": 62,
     "metadata": {},
     "output_type": "execute_result"
    }
   ],
   "source": [
    "# average number of numbers and letters in one mail\n",
    "df['content'].apply(len).mean() "
   ]
  },
  {
   "cell_type": "code",
   "execution_count": 63,
   "metadata": {},
   "outputs": [
    {
     "data": {
      "text/plain": [
       "np.float64(160.71500280221252)"
      ]
     },
     "execution_count": 63,
     "metadata": {},
     "output_type": "execute_result"
    }
   ],
   "source": [
    "# average number of words in one mail\n",
    "df['content'].apply(lambda x: len(x.split())).mean() "
   ]
  },
  {
   "cell_type": "code",
   "execution_count": 64,
   "metadata": {},
   "outputs": [
    {
     "data": {
      "text/plain": [
       "Text(0.5, 1.0, 'Balance')"
      ]
     },
     "execution_count": 64,
     "metadata": {},
     "output_type": "execute_result"
    },
    {
     "data": {
      "image/png": "[encoded data removed]",
      "text/plain": [
       "<Figure size 640x480 with 1 Axes>"
      ]
     },
     "metadata": {},
     "output_type": "display_data"
    }
   ],
   "source": [
    "# bar chart showing the balance between 1 and 0\n",
    "df['target'].value_counts().plot(kind='bar') \n",
    "plt.title('Balance')"
   ]
  },
  {
   "cell_type": "code",
   "execution_count": 65,
   "metadata": {},
   "outputs": [
    {
     "data": {
      "text/plain": [
       "target\n",
       "1    42845\n",
       "0    39233\n",
       "Name: count, dtype: int64"
      ]
     },
     "execution_count": 65,
     "metadata": {},
     "output_type": "execute_result"
    }
   ],
   "source": [
    "# get the exact balance\n",
    "df['target'].value_counts()"
   ]
  },
  {
   "cell_type": "code",
   "execution_count": 66,
   "metadata": {},
   "outputs": [
    {
     "name": "stderr",
     "output_type": "stream",
     "text": [
      "/var/folders/gr/nkq2fp191y1_3wywjp14_sz00000gn/T/ipykernel_90590/196238678.py:2: DeprecationWarning: DataFrameGroupBy.apply operated on the grouping columns. This behavior is deprecated, and in a future version of pandas the grouping columns will be excluded from the operation. Either pass `include_groups=False` to exclude the groupings or explicitly select the grouping columns after groupby to silence this warning.\n",
      "  df = df.groupby('target').apply(lambda x: x.sample(39233, replace=True)).reset_index(drop=True)\n"
     ]
    }
   ],
   "source": [
    "# randomized undersampling\n",
    "df = df.groupby('target').apply(lambda x: x.sample(39233, replace=True)).reset_index(drop=True)"
   ]
  },
  {
   "cell_type": "code",
   "execution_count": 67,
   "metadata": {},
   "outputs": [
    {
     "data": {
      "text/plain": [
       "target\n",
       "0    39233\n",
       "1    39233\n",
       "Name: count, dtype: int64"
      ]
     },
     "execution_count": 67,
     "metadata": {},
     "output_type": "execute_result"
    }
   ],
   "source": [
    "# get the exact balance\n",
    "df['target'].value_counts()"
   ]
  },
  {
   "cell_type": "code",
   "execution_count": 68,
   "metadata": {},
   "outputs": [
    {
     "data": {
      "text/plain": [
       "Text(0.5, 1.0, 'Balance')"
      ]
     },
     "execution_count": 68,
     "metadata": {},
     "output_type": "execute_result"
    },
    {
     "data": {
      "image/png": "[encoded data removed]",
      "text/plain": [
       "<Figure size 640x480 with 1 Axes>"
      ]
     },
     "metadata": {},
     "output_type": "display_data"
    }
   ],
   "source": [
    "# bar chart showing the balance between 1 and 0\n",
    "df['target'].value_counts().plot(kind='bar') \n",
    "plt.title('Balance')"
   ]
  },
  {
   "cell_type": "markdown",
   "metadata": {},
   "source": [
    "## Split Data into Training and Test 80-20"
   ]
  },
  {
   "cell_type": "code",
   "execution_count": 69,
   "metadata": {},
   "outputs": [
    {
     "name": "stdout",
     "output_type": "stream",
     "text": [
      "Shape of X_train: (62772,)\n",
      "Shape of X_test: (15694,)\n",
      "Shape of y_train: (62772,)\n",
      "Shape of y_test: (15694,)\n"
     ]
    }
   ],
   "source": [
    "\n",
    "# define X and Y\n",
    "X = df['content']\n",
    "y = df['target']\n",
    "\n",
    "# split data \n",
    "X_train, X_test, y_train, y_test = train_test_split(X, y, test_size=0.2, random_state=42)\n",
    "\n",
    "# check the shape\n",
    "print(\"Shape of X_train:\", X_train.shape)\n",
    "print(\"Shape of X_test:\", X_test.shape)\n",
    "print(\"Shape of y_train:\", y_train.shape)\n",
    "print(\"Shape of y_test:\", y_test.shape)\n"
   ]
  },
  {
   "cell_type": "markdown",
   "metadata": {},
   "source": [
    "# Vectorization with TF-IDF"
   ]
  },
  {
   "cell_type": "markdown",
   "metadata": {},
   "source": [
    "## Vectorization with TF-IDF"
   ]
  },
  {
   "cell_type": "code",
   "execution_count": 70,
   "metadata": {},
   "outputs": [
    {
     "name": "stdout",
     "output_type": "stream",
     "text": [
      "Shape of X_train_vect: (62772, 427006)\n",
      "Shape of X_test_vect: (15694, 427006)\n",
      "Feature Names: \n",
      "['00' '000' '0000' ... '𝗐𝗈𝗋𝗄' '𝗒𝗈𝗎' '𝗒𝗈𝗎𝗋']\n"
     ]
    }
   ],
   "source": [
    "# creating vectorizer with standart parameters\n",
    "vectorizer = TfidfVectorizer()\n",
    "\n",
    "# fit on and tranform training data\n",
    "X_train_tfidf = vectorizer.fit_transform(X_train)\n",
    "\n",
    "# transform test data \n",
    "X_test_tfidf = vectorizer.transform(X_test)\n",
    "\n",
    "# check the shape\n",
    "print(\"Shape of X_train_vect:\", X_train_tfidf.shape)\n",
    "print(\"Shape of X_test_vect:\", X_test_tfidf.shape)\n",
    "\n",
    "# print feature names\n",
    "print(\"Feature Names: \")\n",
    "print(vectorizer.get_feature_names_out())"
   ]
  },
  {
   "cell_type": "markdown",
   "metadata": {},
   "source": [
    "## Dummy Classifier"
   ]
  },
  {
   "cell_type": "code",
   "execution_count": 80,
   "metadata": {},
   "outputs": [
    {
     "name": "stdout",
     "output_type": "stream",
     "text": [
      "Accuracy:     0.497260099401045\n",
      "F1-Score:     0.4953306895228348\n",
      "Precision:    0.49602869587496795\n",
      "Recall:       0.49463464486458864\n",
      "\n",
      "              precision    recall  f1-score   support\n",
      "\n",
      "           0       0.50      0.50      0.50      7866\n",
      "           1       0.50      0.49      0.50      7828\n",
      "\n",
      "    accuracy                           0.50     15694\n",
      "   macro avg       0.50      0.50      0.50     15694\n",
      "weighted avg       0.50      0.50      0.50     15694\n",
      "\n",
      "\n"
     ]
    },
    {
     "data": {
      "image/png": "[encoded data removed]",
      "text/plain": [
       "<Figure size 640x480 with 2 Axes>"
      ]
     },
     "metadata": {},
     "output_type": "display_data"
    }
   ],
   "source": [
    "# creating classifier object with 'most_frequent'-strategy\n",
    "dummy_tfidf_classifier = DummyClassifier(strategy='uniform', random_state=42)\n",
    "\n",
    "# train classifier\n",
    "dummy_tfidf_classifier.fit(X_train_tfidf, y_train)\n",
    "\n",
    "# test classifier\n",
    "dummy_tfidf_predictions = dummy_tfidf_classifier.predict(X_test_tfidf)\n",
    "\n",
    "# evaluate\n",
    "evaluate(dummy_tfidf_predictions)"
   ]
  },
  {
   "cell_type": "markdown",
   "metadata": {},
   "source": [
    "## Random Forest"
   ]
  },
  {
   "cell_type": "code",
   "execution_count": 81,
   "metadata": {},
   "outputs": [
    {
     "name": "stdout",
     "output_type": "stream",
     "text": [
      "Accuracy:     0.9899961768828852\n",
      "F1-Score:     0.9899391220762576\n",
      "Precision:    0.9931850327889932\n",
      "Recall:       0.9867143587123147\n",
      "\n",
      "              precision    recall  f1-score   support\n",
      "\n",
      "           0       0.99      0.99      0.99      7866\n",
      "           1       0.99      0.99      0.99      7828\n",
      "\n",
      "    accuracy                           0.99     15694\n",
      "   macro avg       0.99      0.99      0.99     15694\n",
      "weighted avg       0.99      0.99      0.99     15694\n",
      "\n",
      "\n"
     ]
    },
    {
     "data": {
      "image/png": "[encoded data removed]",
      "text/plain": [
       "<Figure size 640x480 with 2 Axes>"
      ]
     },
     "metadata": {},
     "output_type": "display_data"
    }
   ],
   "source": [
    "# create classifier object\n",
    "rf_tfidf_classifier = RandomForestClassifier(random_state=42)\n",
    "\n",
    "# train classifier\n",
    "rf_tfidf_classifier.fit(X_train_tfidf, y_train)\n",
    "\n",
    "# test classifier\n",
    "rf_tfidf_predictions = rf_tfidf_classifier.predict(X_test_tfidf)\n",
    "\n",
    "# evaluate\n",
    "evaluate(rf_tfidf_predictions)"
   ]
  },
  {
   "cell_type": "markdown",
   "metadata": {},
   "source": [
    "## Logistic Regression"
   ]
  },
  {
   "cell_type": "code",
   "execution_count": 88,
   "metadata": {},
   "outputs": [
    {
     "name": "stdout",
     "output_type": "stream",
     "text": [
      "Accuracy:     0.9885943672741175\n",
      "F1-Score:     0.9886052581322808\n",
      "Precision:    0.9852810557035909\n",
      "Recall:       0.991951967296883\n",
      "\n",
      "              precision    recall  f1-score   support\n",
      "\n",
      "           0       0.99      0.99      0.99      7866\n",
      "           1       0.99      0.99      0.99      7828\n",
      "\n",
      "    accuracy                           0.99     15694\n",
      "   macro avg       0.99      0.99      0.99     15694\n",
      "weighted avg       0.99      0.99      0.99     15694\n",
      "\n",
      "\n"
     ]
    },
    {
     "data": {
      "image/png": "[encoded data removed]",
      "text/plain": [
       "<Figure size 640x480 with 2 Axes>"
      ]
     },
     "metadata": {},
     "output_type": "display_data"
    }
   ],
   "source": [
    "# create classifier object\n",
    "logreg_tfidf_classifier = LogisticRegression(max_iter=10000, random_state=42)\n",
    "\n",
    "# train classifier\n",
    "logreg_tfidf_classifier.fit(X_train_tfidf, y_train)\n",
    "\n",
    "# test classifier\n",
    "logreg_tfidf_predictions = logreg_tfidf_classifier.predict(X_test_tfidf)\n",
    "\n",
    "# evaluate\n",
    "evaluate(logreg_tfidf_predictions)"
   ]
  }
 ],
 "metadata": {
  "kernelspec": {
   "display_name": "Python 3",
   "language": "python",
   "name": "python3"
  },
  "language_info": {
   "codemirror_mode": {
    "name": "ipython",
    "version": 3
   },
   "file_extension": ".py",
   "mimetype": "text/x-python",
   "name": "python",
   "nbconvert_exporter": "python",
   "pygments_lexer": "ipython3",
   "version": "3.12.2"
  }
 },
 "nbformat": 4,
 "nbformat_minor": 2
}
